{
 "cells": [
  {
   "cell_type": "code",
   "execution_count": 1,
   "metadata": {},
   "outputs": [],
   "source": [
    "import matplotlib.pyplot as plt\n",
    "import numpy as np\n",
    "import pandas as pd\n",
    "import seaborn as sns\n",
    "#import statsmodels.api as sm\n",
    "from statsmodels.stats.outliers_influence import variance_inflation_factor as VIF\n",
    "#from scipy import stats\n",
    "#from sklearn.base import TransformerMixin\n",
    "from sklearn.metrics import mean_squared_error\n",
    "from sklearn.model_selection import train_test_split\n",
    "%matplotlib inline"
   ]
  },
  {
   "cell_type": "code",
   "execution_count": 2,
   "metadata": {},
   "outputs": [
    {
     "data": {
      "text/html": [
       "<div>\n",
       "<style scoped>\n",
       "    .dataframe tbody tr th:only-of-type {\n",
       "        vertical-align: middle;\n",
       "    }\n",
       "\n",
       "    .dataframe tbody tr th {\n",
       "        vertical-align: top;\n",
       "    }\n",
       "\n",
       "    .dataframe thead th {\n",
       "        text-align: right;\n",
       "    }\n",
       "</style>\n",
       "<table border=\"1\" class=\"dataframe\">\n",
       "  <thead>\n",
       "    <tr style=\"text-align: right;\">\n",
       "      <th></th>\n",
       "      <th>Id</th>\n",
       "      <th>city</th>\n",
       "      <th>age</th>\n",
       "      <th>sex</th>\n",
       "      <th>social_class</th>\n",
       "      <th>primary_business</th>\n",
       "      <th>secondary_business</th>\n",
       "      <th>annual_income</th>\n",
       "      <th>monthly_expenses</th>\n",
       "      <th>old_dependents</th>\n",
       "      <th>...</th>\n",
       "      <th>home_ownership</th>\n",
       "      <th>type_of_house</th>\n",
       "      <th>occupants_count</th>\n",
       "      <th>house_area</th>\n",
       "      <th>sanitary_availability</th>\n",
       "      <th>water_availabity</th>\n",
       "      <th>loan_purpose</th>\n",
       "      <th>loan_tenure</th>\n",
       "      <th>loan_installments</th>\n",
       "      <th>loan_amount</th>\n",
       "    </tr>\n",
       "  </thead>\n",
       "  <tbody>\n",
       "    <tr>\n",
       "      <th>0</th>\n",
       "      <td>1</td>\n",
       "      <td>Dhanbad</td>\n",
       "      <td>22</td>\n",
       "      <td>F</td>\n",
       "      <td>Mochi</td>\n",
       "      <td>Tailoring</td>\n",
       "      <td>Others</td>\n",
       "      <td>36000.0</td>\n",
       "      <td>5000.0</td>\n",
       "      <td>0</td>\n",
       "      <td>...</td>\n",
       "      <td>1.0</td>\n",
       "      <td>R</td>\n",
       "      <td>4</td>\n",
       "      <td>70.0</td>\n",
       "      <td>1.0</td>\n",
       "      <td>0.5</td>\n",
       "      <td>Apparels</td>\n",
       "      <td>12</td>\n",
       "      <td>12</td>\n",
       "      <td>5000.0</td>\n",
       "    </tr>\n",
       "    <tr>\n",
       "      <th>1</th>\n",
       "      <td>2</td>\n",
       "      <td>Manjapra</td>\n",
       "      <td>21</td>\n",
       "      <td>F</td>\n",
       "      <td>OBC</td>\n",
       "      <td>Tailoring</td>\n",
       "      <td>none</td>\n",
       "      <td>94000.0</td>\n",
       "      <td>3600.0</td>\n",
       "      <td>1</td>\n",
       "      <td>...</td>\n",
       "      <td>1.0</td>\n",
       "      <td>T1</td>\n",
       "      <td>4</td>\n",
       "      <td>80.0</td>\n",
       "      <td>1.0</td>\n",
       "      <td>0.5</td>\n",
       "      <td>Apparels</td>\n",
       "      <td>12</td>\n",
       "      <td>50</td>\n",
       "      <td>7500.0</td>\n",
       "    </tr>\n",
       "    <tr>\n",
       "      <th>2</th>\n",
       "      <td>3</td>\n",
       "      <td>Dhanbad</td>\n",
       "      <td>24</td>\n",
       "      <td>M</td>\n",
       "      <td>Nai</td>\n",
       "      <td>Beauty salon</td>\n",
       "      <td>Others</td>\n",
       "      <td>48000.0</td>\n",
       "      <td>4000.0</td>\n",
       "      <td>0</td>\n",
       "      <td>...</td>\n",
       "      <td>1.0</td>\n",
       "      <td>T1</td>\n",
       "      <td>4</td>\n",
       "      <td>50.0</td>\n",
       "      <td>1.0</td>\n",
       "      <td>0.5</td>\n",
       "      <td>Beauty Salon</td>\n",
       "      <td>12</td>\n",
       "      <td>12</td>\n",
       "      <td>5000.0</td>\n",
       "    </tr>\n",
       "    <tr>\n",
       "      <th>3</th>\n",
       "      <td>4</td>\n",
       "      <td>NaN</td>\n",
       "      <td>26</td>\n",
       "      <td>F</td>\n",
       "      <td>OBC</td>\n",
       "      <td>Tailoring</td>\n",
       "      <td>none</td>\n",
       "      <td>7000.0</td>\n",
       "      <td>5000.0</td>\n",
       "      <td>0</td>\n",
       "      <td>...</td>\n",
       "      <td>1.0</td>\n",
       "      <td>T1</td>\n",
       "      <td>5</td>\n",
       "      <td>50.0</td>\n",
       "      <td>1.0</td>\n",
       "      <td>0.5</td>\n",
       "      <td>Apparels</td>\n",
       "      <td>12</td>\n",
       "      <td>50</td>\n",
       "      <td>7500.0</td>\n",
       "    </tr>\n",
       "    <tr>\n",
       "      <th>4</th>\n",
       "      <td>5</td>\n",
       "      <td>Nuapada</td>\n",
       "      <td>23</td>\n",
       "      <td>F</td>\n",
       "      <td>OBC</td>\n",
       "      <td>General store</td>\n",
       "      <td>Agriculture</td>\n",
       "      <td>36000.0</td>\n",
       "      <td>3500.0</td>\n",
       "      <td>0</td>\n",
       "      <td>...</td>\n",
       "      <td>1.0</td>\n",
       "      <td>T1</td>\n",
       "      <td>1</td>\n",
       "      <td>112.0</td>\n",
       "      <td>1.0</td>\n",
       "      <td>0.5</td>\n",
       "      <td>Retail Store</td>\n",
       "      <td>12</td>\n",
       "      <td>12</td>\n",
       "      <td>5000.0</td>\n",
       "    </tr>\n",
       "  </tbody>\n",
       "</table>\n",
       "<p>5 rows × 21 columns</p>\n",
       "</div>"
      ],
      "text/plain": [
       "   Id      city  age sex social_class primary_business secondary_business  \\\n",
       "0   1   Dhanbad   22   F        Mochi        Tailoring             Others   \n",
       "1   2  Manjapra   21   F          OBC        Tailoring               none   \n",
       "2   3   Dhanbad   24   M          Nai     Beauty salon             Others   \n",
       "3   4       NaN   26   F          OBC        Tailoring               none   \n",
       "4   5   Nuapada   23   F          OBC    General store        Agriculture   \n",
       "\n",
       "   annual_income  monthly_expenses  old_dependents  ...  home_ownership  \\\n",
       "0        36000.0            5000.0               0  ...             1.0   \n",
       "1        94000.0            3600.0               1  ...             1.0   \n",
       "2        48000.0            4000.0               0  ...             1.0   \n",
       "3         7000.0            5000.0               0  ...             1.0   \n",
       "4        36000.0            3500.0               0  ...             1.0   \n",
       "\n",
       "   type_of_house occupants_count  house_area  sanitary_availability  \\\n",
       "0              R               4        70.0                    1.0   \n",
       "1             T1               4        80.0                    1.0   \n",
       "2             T1               4        50.0                    1.0   \n",
       "3             T1               5        50.0                    1.0   \n",
       "4             T1               1       112.0                    1.0   \n",
       "\n",
       "   water_availabity  loan_purpose loan_tenure  loan_installments  loan_amount  \n",
       "0               0.5      Apparels          12                 12       5000.0  \n",
       "1               0.5      Apparels          12                 50       7500.0  \n",
       "2               0.5  Beauty Salon          12                 12       5000.0  \n",
       "3               0.5      Apparels          12                 50       7500.0  \n",
       "4               0.5  Retail Store          12                 12       5000.0  \n",
       "\n",
       "[5 rows x 21 columns]"
      ]
     },
     "execution_count": 2,
     "metadata": {},
     "output_type": "execute_result"
    }
   ],
   "source": [
    "df=pd.read_csv('Loan_Amount_Prediction.csv')\n",
    "df.head()"
   ]
  },
  {
   "cell_type": "code",
   "execution_count": 3,
   "metadata": {},
   "outputs": [
    {
     "name": "stdout",
     "output_type": "stream",
     "text": [
      "<class 'pandas.core.frame.DataFrame'>\n",
      "RangeIndex: 40000 entries, 0 to 39999\n",
      "Data columns (total 21 columns):\n",
      " #   Column                 Non-Null Count  Dtype  \n",
      "---  ------                 --------------  -----  \n",
      " 0   Id                     40000 non-null  int64  \n",
      " 1   city                   38136 non-null  object \n",
      " 2   age                    40000 non-null  int64  \n",
      " 3   sex                    40000 non-null  object \n",
      " 4   social_class           34745 non-null  object \n",
      " 5   primary_business       39974 non-null  object \n",
      " 6   secondary_business     34759 non-null  object \n",
      " 7   annual_income          40000 non-null  float64\n",
      " 8   monthly_expenses       39880 non-null  float64\n",
      " 9   old_dependents         40000 non-null  int64  \n",
      " 10  young_dependents       40000 non-null  int64  \n",
      " 11  home_ownership         39621 non-null  float64\n",
      " 12  type_of_house          39306 non-null  object \n",
      " 13  occupants_count        40000 non-null  int64  \n",
      " 14  house_area             40000 non-null  float64\n",
      " 15  sanitary_availability  39792 non-null  float64\n",
      " 16  water_availabity       34747 non-null  float64\n",
      " 17  loan_purpose           39974 non-null  object \n",
      " 18  loan_tenure            40000 non-null  int64  \n",
      " 19  loan_installments      40000 non-null  int64  \n",
      " 20  loan_amount            40000 non-null  float64\n",
      "dtypes: float64(7), int64(7), object(7)\n",
      "memory usage: 6.4+ MB\n"
     ]
    }
   ],
   "source": [
    "df.info()"
   ]
  },
  {
   "cell_type": "markdown",
   "metadata": {},
   "source": [
    "### Summarising the Data"
   ]
  },
  {
   "cell_type": "code",
   "execution_count": 4,
   "metadata": {},
   "outputs": [
    {
     "data": {
      "text/html": [
       "<div>\n",
       "<style scoped>\n",
       "    .dataframe tbody tr th:only-of-type {\n",
       "        vertical-align: middle;\n",
       "    }\n",
       "\n",
       "    .dataframe tbody tr th {\n",
       "        vertical-align: top;\n",
       "    }\n",
       "\n",
       "    .dataframe thead th {\n",
       "        text-align: right;\n",
       "    }\n",
       "</style>\n",
       "<table border=\"1\" class=\"dataframe\">\n",
       "  <thead>\n",
       "    <tr style=\"text-align: right;\">\n",
       "      <th></th>\n",
       "      <th>index</th>\n",
       "      <th>dtype</th>\n",
       "      <th>Null_Counts</th>\n",
       "      <th>Uniques</th>\n",
       "      <th>First_value</th>\n",
       "      <th>Third_value</th>\n",
       "      <th>Null_Percent</th>\n",
       "    </tr>\n",
       "  </thead>\n",
       "  <tbody>\n",
       "    <tr>\n",
       "      <th>4</th>\n",
       "      <td>social_class</td>\n",
       "      <td>object</td>\n",
       "      <td>5255</td>\n",
       "      <td>519</td>\n",
       "      <td>Mochi</td>\n",
       "      <td>Nai</td>\n",
       "      <td>13.1375</td>\n",
       "    </tr>\n",
       "    <tr>\n",
       "      <th>16</th>\n",
       "      <td>water_availabity</td>\n",
       "      <td>float64</td>\n",
       "      <td>5253</td>\n",
       "      <td>4</td>\n",
       "      <td>0.5</td>\n",
       "      <td>0.5</td>\n",
       "      <td>13.1325</td>\n",
       "    </tr>\n",
       "    <tr>\n",
       "      <th>6</th>\n",
       "      <td>secondary_business</td>\n",
       "      <td>object</td>\n",
       "      <td>5241</td>\n",
       "      <td>5</td>\n",
       "      <td>Others</td>\n",
       "      <td>Others</td>\n",
       "      <td>13.1025</td>\n",
       "    </tr>\n",
       "    <tr>\n",
       "      <th>1</th>\n",
       "      <td>city</td>\n",
       "      <td>object</td>\n",
       "      <td>1864</td>\n",
       "      <td>856</td>\n",
       "      <td>Dhanbad</td>\n",
       "      <td>Dhanbad</td>\n",
       "      <td>4.6600</td>\n",
       "    </tr>\n",
       "    <tr>\n",
       "      <th>12</th>\n",
       "      <td>type_of_house</td>\n",
       "      <td>object</td>\n",
       "      <td>694</td>\n",
       "      <td>3</td>\n",
       "      <td>R</td>\n",
       "      <td>T1</td>\n",
       "      <td>1.7350</td>\n",
       "    </tr>\n",
       "    <tr>\n",
       "      <th>11</th>\n",
       "      <td>home_ownership</td>\n",
       "      <td>float64</td>\n",
       "      <td>379</td>\n",
       "      <td>2</td>\n",
       "      <td>1</td>\n",
       "      <td>1</td>\n",
       "      <td>0.9475</td>\n",
       "    </tr>\n",
       "    <tr>\n",
       "      <th>15</th>\n",
       "      <td>sanitary_availability</td>\n",
       "      <td>float64</td>\n",
       "      <td>208</td>\n",
       "      <td>3</td>\n",
       "      <td>1</td>\n",
       "      <td>1</td>\n",
       "      <td>0.5200</td>\n",
       "    </tr>\n",
       "    <tr>\n",
       "      <th>8</th>\n",
       "      <td>monthly_expenses</td>\n",
       "      <td>float64</td>\n",
       "      <td>120</td>\n",
       "      <td>260</td>\n",
       "      <td>5000</td>\n",
       "      <td>4000</td>\n",
       "      <td>0.3000</td>\n",
       "    </tr>\n",
       "    <tr>\n",
       "      <th>5</th>\n",
       "      <td>primary_business</td>\n",
       "      <td>object</td>\n",
       "      <td>26</td>\n",
       "      <td>441</td>\n",
       "      <td>Tailoring</td>\n",
       "      <td>Beauty salon</td>\n",
       "      <td>0.0650</td>\n",
       "    </tr>\n",
       "    <tr>\n",
       "      <th>17</th>\n",
       "      <td>loan_purpose</td>\n",
       "      <td>object</td>\n",
       "      <td>26</td>\n",
       "      <td>37</td>\n",
       "      <td>Apparels</td>\n",
       "      <td>Beauty Salon</td>\n",
       "      <td>0.0650</td>\n",
       "    </tr>\n",
       "    <tr>\n",
       "      <th>0</th>\n",
       "      <td>Id</td>\n",
       "      <td>int64</td>\n",
       "      <td>0</td>\n",
       "      <td>40000</td>\n",
       "      <td>1</td>\n",
       "      <td>3</td>\n",
       "      <td>0.0000</td>\n",
       "    </tr>\n",
       "    <tr>\n",
       "      <th>14</th>\n",
       "      <td>house_area</td>\n",
       "      <td>float64</td>\n",
       "      <td>0</td>\n",
       "      <td>391</td>\n",
       "      <td>70</td>\n",
       "      <td>50</td>\n",
       "      <td>0.0000</td>\n",
       "    </tr>\n",
       "    <tr>\n",
       "      <th>19</th>\n",
       "      <td>loan_installments</td>\n",
       "      <td>int64</td>\n",
       "      <td>0</td>\n",
       "      <td>21</td>\n",
       "      <td>12</td>\n",
       "      <td>12</td>\n",
       "      <td>0.0000</td>\n",
       "    </tr>\n",
       "    <tr>\n",
       "      <th>18</th>\n",
       "      <td>loan_tenure</td>\n",
       "      <td>int64</td>\n",
       "      <td>0</td>\n",
       "      <td>11</td>\n",
       "      <td>12</td>\n",
       "      <td>12</td>\n",
       "      <td>0.0000</td>\n",
       "    </tr>\n",
       "    <tr>\n",
       "      <th>10</th>\n",
       "      <td>young_dependents</td>\n",
       "      <td>int64</td>\n",
       "      <td>0</td>\n",
       "      <td>8</td>\n",
       "      <td>2</td>\n",
       "      <td>2</td>\n",
       "      <td>0.0000</td>\n",
       "    </tr>\n",
       "    <tr>\n",
       "      <th>13</th>\n",
       "      <td>occupants_count</td>\n",
       "      <td>int64</td>\n",
       "      <td>0</td>\n",
       "      <td>23</td>\n",
       "      <td>4</td>\n",
       "      <td>4</td>\n",
       "      <td>0.0000</td>\n",
       "    </tr>\n",
       "    <tr>\n",
       "      <th>9</th>\n",
       "      <td>old_dependents</td>\n",
       "      <td>int64</td>\n",
       "      <td>0</td>\n",
       "      <td>4</td>\n",
       "      <td>0</td>\n",
       "      <td>0</td>\n",
       "      <td>0.0000</td>\n",
       "    </tr>\n",
       "    <tr>\n",
       "      <th>7</th>\n",
       "      <td>annual_income</td>\n",
       "      <td>float64</td>\n",
       "      <td>0</td>\n",
       "      <td>359</td>\n",
       "      <td>36000</td>\n",
       "      <td>48000</td>\n",
       "      <td>0.0000</td>\n",
       "    </tr>\n",
       "    <tr>\n",
       "      <th>3</th>\n",
       "      <td>sex</td>\n",
       "      <td>object</td>\n",
       "      <td>0</td>\n",
       "      <td>3</td>\n",
       "      <td>F</td>\n",
       "      <td>M</td>\n",
       "      <td>0.0000</td>\n",
       "    </tr>\n",
       "    <tr>\n",
       "      <th>2</th>\n",
       "      <td>age</td>\n",
       "      <td>int64</td>\n",
       "      <td>0</td>\n",
       "      <td>62</td>\n",
       "      <td>22</td>\n",
       "      <td>24</td>\n",
       "      <td>0.0000</td>\n",
       "    </tr>\n",
       "    <tr>\n",
       "      <th>20</th>\n",
       "      <td>loan_amount</td>\n",
       "      <td>float64</td>\n",
       "      <td>0</td>\n",
       "      <td>115</td>\n",
       "      <td>5000</td>\n",
       "      <td>5000</td>\n",
       "      <td>0.0000</td>\n",
       "    </tr>\n",
       "  </tbody>\n",
       "</table>\n",
       "</div>"
      ],
      "text/plain": [
       "                    index    dtype  Null_Counts  Uniques First_value  \\\n",
       "4            social_class   object         5255      519       Mochi   \n",
       "16       water_availabity  float64         5253        4         0.5   \n",
       "6      secondary_business   object         5241        5      Others   \n",
       "1                    city   object         1864      856     Dhanbad   \n",
       "12          type_of_house   object          694        3           R   \n",
       "11         home_ownership  float64          379        2           1   \n",
       "15  sanitary_availability  float64          208        3           1   \n",
       "8        monthly_expenses  float64          120      260        5000   \n",
       "5        primary_business   object           26      441   Tailoring   \n",
       "17           loan_purpose   object           26       37    Apparels   \n",
       "0                      Id    int64            0    40000           1   \n",
       "14             house_area  float64            0      391          70   \n",
       "19      loan_installments    int64            0       21          12   \n",
       "18            loan_tenure    int64            0       11          12   \n",
       "10       young_dependents    int64            0        8           2   \n",
       "13        occupants_count    int64            0       23           4   \n",
       "9          old_dependents    int64            0        4           0   \n",
       "7           annual_income  float64            0      359       36000   \n",
       "3                     sex   object            0        3           F   \n",
       "2                     age    int64            0       62          22   \n",
       "20            loan_amount  float64            0      115        5000   \n",
       "\n",
       "     Third_value  Null_Percent  \n",
       "4            Nai       13.1375  \n",
       "16           0.5       13.1325  \n",
       "6         Others       13.1025  \n",
       "1        Dhanbad        4.6600  \n",
       "12            T1        1.7350  \n",
       "11             1        0.9475  \n",
       "15             1        0.5200  \n",
       "8           4000        0.3000  \n",
       "5   Beauty salon        0.0650  \n",
       "17  Beauty Salon        0.0650  \n",
       "0              3        0.0000  \n",
       "14            50        0.0000  \n",
       "19            12        0.0000  \n",
       "18            12        0.0000  \n",
       "10             2        0.0000  \n",
       "13             4        0.0000  \n",
       "9              0        0.0000  \n",
       "7          48000        0.0000  \n",
       "3              M        0.0000  \n",
       "2             24        0.0000  \n",
       "20          5000        0.0000  "
      ]
     },
     "execution_count": 4,
     "metadata": {},
     "output_type": "execute_result"
    }
   ],
   "source": [
    "summary=pd.DataFrame(df.dtypes,columns=['dtype'])\n",
    "summary=summary.reset_index()\n",
    "summary.rename(columns={'index':'Name'})\n",
    "summary['Null_Counts']=df.isnull().sum().values\n",
    "summary['Uniques'] = df.nunique().values\n",
    "new_column_list=['First_value','Third_value']\n",
    "for i in new_column_list:\n",
    "    summary[i]=''\n",
    "summary[new_column_list]=pd.concat([df.iloc[0],df.iloc[2]],axis=1).values\n",
    "summary['Null_Percent']= (summary['Null_Counts']*100)/ len(df)\n",
    "summary.sort_values(by='Null_Percent',ascending=False,inplace=True)\n",
    "summary"
   ]
  },
  {
   "cell_type": "markdown",
   "metadata": {},
   "source": [
    "##### From this summary we can see that there is no null value in column 'loan_amount', which is target columns.\n",
    "### Dealing with null values\n",
    "In this data we are filling nan value with median for numerical columns and with largest repeated value in non numerical columns."
   ]
  },
  {
   "cell_type": "code",
   "execution_count": 5,
   "metadata": {},
   "outputs": [],
   "source": [
    "column_list=df.columns.tolist()\n",
    "for i in column_list:\n",
    "    if (df[i].dtypes)!='object':\n",
    "        df[i]=df[i].fillna(df[i].median())\n",
    "    else:\n",
    "        df[i]=df[i].fillna(df[i].value_counts().nlargest(1).index.values[0])\n",
    "df.drop('Id',axis=1,inplace=True)"
   ]
  },
  {
   "cell_type": "code",
   "execution_count": 6,
   "metadata": {},
   "outputs": [
    {
     "data": {
      "text/plain": [
       "city                     0\n",
       "age                      0\n",
       "sex                      0\n",
       "social_class             0\n",
       "primary_business         0\n",
       "secondary_business       0\n",
       "annual_income            0\n",
       "monthly_expenses         0\n",
       "old_dependents           0\n",
       "young_dependents         0\n",
       "home_ownership           0\n",
       "type_of_house            0\n",
       "occupants_count          0\n",
       "house_area               0\n",
       "sanitary_availability    0\n",
       "water_availabity         0\n",
       "loan_purpose             0\n",
       "loan_tenure              0\n",
       "loan_installments        0\n",
       "loan_amount              0\n",
       "dtype: int64"
      ]
     },
     "execution_count": 6,
     "metadata": {},
     "output_type": "execute_result"
    }
   ],
   "source": [
    "df.isnull().sum()"
   ]
  },
  {
   "cell_type": "code",
   "execution_count": 7,
   "metadata": {},
   "outputs": [
    {
     "name": "stdout",
     "output_type": "stream",
     "text": [
      "<class 'pandas.core.frame.DataFrame'>\n",
      "RangeIndex: 40000 entries, 0 to 39999\n",
      "Data columns (total 20 columns):\n",
      " #   Column                 Non-Null Count  Dtype  \n",
      "---  ------                 --------------  -----  \n",
      " 0   city                   40000 non-null  object \n",
      " 1   age                    40000 non-null  int64  \n",
      " 2   sex                    40000 non-null  object \n",
      " 3   social_class           40000 non-null  object \n",
      " 4   primary_business       40000 non-null  object \n",
      " 5   secondary_business     40000 non-null  object \n",
      " 6   annual_income          40000 non-null  float64\n",
      " 7   monthly_expenses       40000 non-null  float64\n",
      " 8   old_dependents         40000 non-null  int64  \n",
      " 9   young_dependents       40000 non-null  int64  \n",
      " 10  home_ownership         40000 non-null  float64\n",
      " 11  type_of_house          40000 non-null  object \n",
      " 12  occupants_count        40000 non-null  int64  \n",
      " 13  house_area             40000 non-null  float64\n",
      " 14  sanitary_availability  40000 non-null  float64\n",
      " 15  water_availabity       40000 non-null  float64\n",
      " 16  loan_purpose           40000 non-null  object \n",
      " 17  loan_tenure            40000 non-null  int64  \n",
      " 18  loan_installments      40000 non-null  int64  \n",
      " 19  loan_amount            40000 non-null  float64\n",
      "dtypes: float64(7), int64(6), object(7)\n",
      "memory usage: 6.1+ MB\n"
     ]
    }
   ],
   "source": [
    "df.info()"
   ]
  },
  {
   "cell_type": "code",
   "execution_count": 8,
   "metadata": {},
   "outputs": [
    {
     "data": {
      "image/png": "[encoded data removed]",
      "text/plain": [
       "<Figure size 1440x1080 with 16 Axes>"
      ]
     },
     "metadata": {
      "needs_background": "light"
     },
     "output_type": "display_data"
    }
   ],
   "source": [
    "df.hist(bins=50, figsize=(20,15))\n",
    "plt.show()"
   ]
  },
  {
   "cell_type": "markdown",
   "metadata": {},
   "source": [
    "##### Data it too much skewed we have to work on output variable (dependent variable)."
   ]
  },
  {
   "cell_type": "markdown",
   "metadata": {},
   "source": [
    "#### Splitting data into features and target  "
   ]
  },
  {
   "cell_type": "code",
   "execution_count": 9,
   "metadata": {},
   "outputs": [],
   "source": [
    "X = df.loc[:, df.columns != 'loan_amount']\n",
    "y = df.loc[:, 'loan_amount']"
   ]
  },
  {
   "cell_type": "code",
   "execution_count": 10,
   "metadata": {},
   "outputs": [],
   "source": [
    "X_train, X_test, y_train, y_test = train_test_split(X, y, test_size=0.33, random_state=42)"
   ]
  },
  {
   "cell_type": "code",
   "execution_count": 11,
   "metadata": {},
   "outputs": [
    {
     "data": {
      "text/html": [
       "<div>\n",
       "<style scoped>\n",
       "    .dataframe tbody tr th:only-of-type {\n",
       "        vertical-align: middle;\n",
       "    }\n",
       "\n",
       "    .dataframe tbody tr th {\n",
       "        vertical-align: top;\n",
       "    }\n",
       "\n",
       "    .dataframe thead th {\n",
       "        text-align: right;\n",
       "    }\n",
       "</style>\n",
       "<table border=\"1\" class=\"dataframe\">\n",
       "  <thead>\n",
       "    <tr style=\"text-align: right;\">\n",
       "      <th></th>\n",
       "      <th>city</th>\n",
       "      <th>age</th>\n",
       "      <th>sex</th>\n",
       "      <th>social_class</th>\n",
       "      <th>primary_business</th>\n",
       "      <th>secondary_business</th>\n",
       "      <th>annual_income</th>\n",
       "      <th>monthly_expenses</th>\n",
       "      <th>old_dependents</th>\n",
       "      <th>young_dependents</th>\n",
       "      <th>home_ownership</th>\n",
       "      <th>type_of_house</th>\n",
       "      <th>occupants_count</th>\n",
       "      <th>house_area</th>\n",
       "      <th>sanitary_availability</th>\n",
       "      <th>water_availabity</th>\n",
       "      <th>loan_purpose</th>\n",
       "      <th>loan_tenure</th>\n",
       "      <th>loan_installments</th>\n",
       "    </tr>\n",
       "  </thead>\n",
       "  <tbody>\n",
       "    <tr>\n",
       "      <th>8451</th>\n",
       "      <td>Pusad</td>\n",
       "      <td>40</td>\n",
       "      <td>F</td>\n",
       "      <td>OBC</td>\n",
       "      <td>Fancy Store</td>\n",
       "      <td>none</td>\n",
       "      <td>0.0</td>\n",
       "      <td>3200.0</td>\n",
       "      <td>0</td>\n",
       "      <td>0</td>\n",
       "      <td>1.0</td>\n",
       "      <td>T1</td>\n",
       "      <td>0</td>\n",
       "      <td>0.0</td>\n",
       "      <td>0.0</td>\n",
       "      <td>1.0</td>\n",
       "      <td>Retail Store</td>\n",
       "      <td>12</td>\n",
       "      <td>12</td>\n",
       "    </tr>\n",
       "    <tr>\n",
       "      <th>28293</th>\n",
       "      <td>Imphal</td>\n",
       "      <td>36</td>\n",
       "      <td>F</td>\n",
       "      <td>OBC</td>\n",
       "      <td>School</td>\n",
       "      <td>none</td>\n",
       "      <td>36000.0</td>\n",
       "      <td>1500.0</td>\n",
       "      <td>0</td>\n",
       "      <td>2</td>\n",
       "      <td>1.0</td>\n",
       "      <td>T2</td>\n",
       "      <td>6</td>\n",
       "      <td>1800.0</td>\n",
       "      <td>1.0</td>\n",
       "      <td>0.5</td>\n",
       "      <td>Education Loan</td>\n",
       "      <td>12</td>\n",
       "      <td>12</td>\n",
       "    </tr>\n",
       "    <tr>\n",
       "      <th>9948</th>\n",
       "      <td>Nuapada</td>\n",
       "      <td>36</td>\n",
       "      <td>F</td>\n",
       "      <td>OBC</td>\n",
       "      <td>Vegetable vendor</td>\n",
       "      <td>none</td>\n",
       "      <td>0.0</td>\n",
       "      <td>4000.0</td>\n",
       "      <td>0</td>\n",
       "      <td>0</td>\n",
       "      <td>1.0</td>\n",
       "      <td>T1</td>\n",
       "      <td>0</td>\n",
       "      <td>0.0</td>\n",
       "      <td>0.0</td>\n",
       "      <td>1.0</td>\n",
       "      <td>Agro Based Businesses</td>\n",
       "      <td>12</td>\n",
       "      <td>12</td>\n",
       "    </tr>\n",
       "    <tr>\n",
       "      <th>32270</th>\n",
       "      <td>Balasore</td>\n",
       "      <td>36</td>\n",
       "      <td>F</td>\n",
       "      <td>General</td>\n",
       "      <td>Poultry farm</td>\n",
       "      <td>Others</td>\n",
       "      <td>50400.0</td>\n",
       "      <td>4000.0</td>\n",
       "      <td>0</td>\n",
       "      <td>2</td>\n",
       "      <td>1.0</td>\n",
       "      <td>T2</td>\n",
       "      <td>4</td>\n",
       "      <td>280.0</td>\n",
       "      <td>1.0</td>\n",
       "      <td>1.0</td>\n",
       "      <td>Meat Businesses</td>\n",
       "      <td>12</td>\n",
       "      <td>12</td>\n",
       "    </tr>\n",
       "    <tr>\n",
       "      <th>39564</th>\n",
       "      <td>Imphal</td>\n",
       "      <td>38</td>\n",
       "      <td>F</td>\n",
       "      <td>OBC</td>\n",
       "      <td>Weaver</td>\n",
       "      <td>none</td>\n",
       "      <td>48000.0</td>\n",
       "      <td>1000.0</td>\n",
       "      <td>0</td>\n",
       "      <td>3</td>\n",
       "      <td>1.0</td>\n",
       "      <td>T2</td>\n",
       "      <td>5</td>\n",
       "      <td>1600.0</td>\n",
       "      <td>1.0</td>\n",
       "      <td>0.5</td>\n",
       "      <td>Apparels</td>\n",
       "      <td>12</td>\n",
       "      <td>12</td>\n",
       "    </tr>\n",
       "  </tbody>\n",
       "</table>\n",
       "</div>"
      ],
      "text/plain": [
       "           city  age sex social_class  primary_business secondary_business  \\\n",
       "8451      Pusad   40   F          OBC       Fancy Store               none   \n",
       "28293    Imphal   36   F          OBC            School               none   \n",
       "9948    Nuapada   36   F          OBC  Vegetable vendor               none   \n",
       "32270  Balasore   36   F      General      Poultry farm             Others   \n",
       "39564    Imphal   38   F          OBC            Weaver               none   \n",
       "\n",
       "       annual_income  monthly_expenses  old_dependents  young_dependents  \\\n",
       "8451             0.0            3200.0               0                 0   \n",
       "28293        36000.0            1500.0               0                 2   \n",
       "9948             0.0            4000.0               0                 0   \n",
       "32270        50400.0            4000.0               0                 2   \n",
       "39564        48000.0            1000.0               0                 3   \n",
       "\n",
       "       home_ownership type_of_house  occupants_count  house_area  \\\n",
       "8451              1.0            T1                0         0.0   \n",
       "28293             1.0            T2                6      1800.0   \n",
       "9948              1.0            T1                0         0.0   \n",
       "32270             1.0            T2                4       280.0   \n",
       "39564             1.0            T2                5      1600.0   \n",
       "\n",
       "       sanitary_availability  water_availabity           loan_purpose  \\\n",
       "8451                     0.0               1.0           Retail Store   \n",
       "28293                    1.0               0.5         Education Loan   \n",
       "9948                     0.0               1.0  Agro Based Businesses   \n",
       "32270                    1.0               1.0        Meat Businesses   \n",
       "39564                    1.0               0.5               Apparels   \n",
       "\n",
       "       loan_tenure  loan_installments  \n",
       "8451            12                 12  \n",
       "28293           12                 12  \n",
       "9948            12                 12  \n",
       "32270           12                 12  \n",
       "39564           12                 12  "
      ]
     },
     "execution_count": 11,
     "metadata": {},
     "output_type": "execute_result"
    }
   ],
   "source": [
    "X_train.head()"
   ]
  },
  {
   "cell_type": "code",
   "execution_count": 12,
   "metadata": {},
   "outputs": [
    {
     "data": {
      "text/plain": [
       "8451      5000.0\n",
       "28293     7000.0\n",
       "9948      3000.0\n",
       "32270    10000.0\n",
       "39564     8000.0\n",
       "          ...   \n",
       "6265      5000.0\n",
       "11284     5000.0\n",
       "38158    10000.0\n",
       "860       5000.0\n",
       "15795     8000.0\n",
       "Name: loan_amount, Length: 26800, dtype: float64"
      ]
     },
     "execution_count": 12,
     "metadata": {},
     "output_type": "execute_result"
    }
   ],
   "source": [
    "y_train"
   ]
  },
  {
   "cell_type": "code",
   "execution_count": 13,
   "metadata": {},
   "outputs": [
    {
     "data": {
      "text/plain": [
       "sex                     3\n",
       "type_of_house           3\n",
       "secondary_business      5\n",
       "loan_purpose           36\n",
       "primary_business      387\n",
       "social_class          428\n",
       "city                  749\n",
       "dtype: int64"
      ]
     },
     "execution_count": 13,
     "metadata": {},
     "output_type": "execute_result"
    }
   ],
   "source": [
    "### Displaying columns of object data types & the count of unique value each have :\n",
    "X_train.select_dtypes(include='object').nunique().sort_values()"
   ]
  },
  {
   "cell_type": "markdown",
   "metadata": {},
   "source": [
    "#####  'sex', 'type_of_house', 'secondary_business' are nominal variables with low cardinality so we can use one-hot encoding to convert from categorical to numeric."
   ]
  },
  {
   "cell_type": "code",
   "execution_count": 14,
   "metadata": {},
   "outputs": [],
   "source": [
    "X_train = pd.get_dummies(X_train, columns=[\"sex\", \"type_of_house\", \"secondary_business\"], \n",
    "                         prefix=[\"gender\", \"house_type\", \"sec_business\"],drop_first=True)"
   ]
  },
  {
   "cell_type": "code",
   "execution_count": 15,
   "metadata": {},
   "outputs": [
    {
     "data": {
      "text/html": [
       "<div>\n",
       "<style scoped>\n",
       "    .dataframe tbody tr th:only-of-type {\n",
       "        vertical-align: middle;\n",
       "    }\n",
       "\n",
       "    .dataframe tbody tr th {\n",
       "        vertical-align: top;\n",
       "    }\n",
       "\n",
       "    .dataframe thead th {\n",
       "        text-align: right;\n",
       "    }\n",
       "</style>\n",
       "<table border=\"1\" class=\"dataframe\">\n",
       "  <thead>\n",
       "    <tr style=\"text-align: right;\">\n",
       "      <th></th>\n",
       "      <th>city</th>\n",
       "      <th>age</th>\n",
       "      <th>social_class</th>\n",
       "      <th>primary_business</th>\n",
       "      <th>annual_income</th>\n",
       "      <th>monthly_expenses</th>\n",
       "      <th>old_dependents</th>\n",
       "      <th>young_dependents</th>\n",
       "      <th>home_ownership</th>\n",
       "      <th>occupants_count</th>\n",
       "      <th>...</th>\n",
       "      <th>loan_tenure</th>\n",
       "      <th>loan_installments</th>\n",
       "      <th>gender_M</th>\n",
       "      <th>gender_TG</th>\n",
       "      <th>house_type_T1</th>\n",
       "      <th>house_type_T2</th>\n",
       "      <th>sec_business_Daily wage labourer</th>\n",
       "      <th>sec_business_Livestock rearing</th>\n",
       "      <th>sec_business_Others</th>\n",
       "      <th>sec_business_none</th>\n",
       "    </tr>\n",
       "  </thead>\n",
       "  <tbody>\n",
       "    <tr>\n",
       "      <th>8451</th>\n",
       "      <td>Pusad</td>\n",
       "      <td>40</td>\n",
       "      <td>OBC</td>\n",
       "      <td>Fancy Store</td>\n",
       "      <td>0.0</td>\n",
       "      <td>3200.0</td>\n",
       "      <td>0</td>\n",
       "      <td>0</td>\n",
       "      <td>1.0</td>\n",
       "      <td>0</td>\n",
       "      <td>...</td>\n",
       "      <td>12</td>\n",
       "      <td>12</td>\n",
       "      <td>0</td>\n",
       "      <td>0</td>\n",
       "      <td>1</td>\n",
       "      <td>0</td>\n",
       "      <td>0</td>\n",
       "      <td>0</td>\n",
       "      <td>0</td>\n",
       "      <td>1</td>\n",
       "    </tr>\n",
       "    <tr>\n",
       "      <th>28293</th>\n",
       "      <td>Imphal</td>\n",
       "      <td>36</td>\n",
       "      <td>OBC</td>\n",
       "      <td>School</td>\n",
       "      <td>36000.0</td>\n",
       "      <td>1500.0</td>\n",
       "      <td>0</td>\n",
       "      <td>2</td>\n",
       "      <td>1.0</td>\n",
       "      <td>6</td>\n",
       "      <td>...</td>\n",
       "      <td>12</td>\n",
       "      <td>12</td>\n",
       "      <td>0</td>\n",
       "      <td>0</td>\n",
       "      <td>0</td>\n",
       "      <td>1</td>\n",
       "      <td>0</td>\n",
       "      <td>0</td>\n",
       "      <td>0</td>\n",
       "      <td>1</td>\n",
       "    </tr>\n",
       "    <tr>\n",
       "      <th>9948</th>\n",
       "      <td>Nuapada</td>\n",
       "      <td>36</td>\n",
       "      <td>OBC</td>\n",
       "      <td>Vegetable vendor</td>\n",
       "      <td>0.0</td>\n",
       "      <td>4000.0</td>\n",
       "      <td>0</td>\n",
       "      <td>0</td>\n",
       "      <td>1.0</td>\n",
       "      <td>0</td>\n",
       "      <td>...</td>\n",
       "      <td>12</td>\n",
       "      <td>12</td>\n",
       "      <td>0</td>\n",
       "      <td>0</td>\n",
       "      <td>1</td>\n",
       "      <td>0</td>\n",
       "      <td>0</td>\n",
       "      <td>0</td>\n",
       "      <td>0</td>\n",
       "      <td>1</td>\n",
       "    </tr>\n",
       "    <tr>\n",
       "      <th>32270</th>\n",
       "      <td>Balasore</td>\n",
       "      <td>36</td>\n",
       "      <td>General</td>\n",
       "      <td>Poultry farm</td>\n",
       "      <td>50400.0</td>\n",
       "      <td>4000.0</td>\n",
       "      <td>0</td>\n",
       "      <td>2</td>\n",
       "      <td>1.0</td>\n",
       "      <td>4</td>\n",
       "      <td>...</td>\n",
       "      <td>12</td>\n",
       "      <td>12</td>\n",
       "      <td>0</td>\n",
       "      <td>0</td>\n",
       "      <td>0</td>\n",
       "      <td>1</td>\n",
       "      <td>0</td>\n",
       "      <td>0</td>\n",
       "      <td>1</td>\n",
       "      <td>0</td>\n",
       "    </tr>\n",
       "    <tr>\n",
       "      <th>39564</th>\n",
       "      <td>Imphal</td>\n",
       "      <td>38</td>\n",
       "      <td>OBC</td>\n",
       "      <td>Weaver</td>\n",
       "      <td>48000.0</td>\n",
       "      <td>1000.0</td>\n",
       "      <td>0</td>\n",
       "      <td>3</td>\n",
       "      <td>1.0</td>\n",
       "      <td>5</td>\n",
       "      <td>...</td>\n",
       "      <td>12</td>\n",
       "      <td>12</td>\n",
       "      <td>0</td>\n",
       "      <td>0</td>\n",
       "      <td>0</td>\n",
       "      <td>1</td>\n",
       "      <td>0</td>\n",
       "      <td>0</td>\n",
       "      <td>0</td>\n",
       "      <td>1</td>\n",
       "    </tr>\n",
       "  </tbody>\n",
       "</table>\n",
       "<p>5 rows × 24 columns</p>\n",
       "</div>"
      ],
      "text/plain": [
       "           city  age social_class  primary_business  annual_income  \\\n",
       "8451      Pusad   40          OBC       Fancy Store            0.0   \n",
       "28293    Imphal   36          OBC            School        36000.0   \n",
       "9948    Nuapada   36          OBC  Vegetable vendor            0.0   \n",
       "32270  Balasore   36      General      Poultry farm        50400.0   \n",
       "39564    Imphal   38          OBC            Weaver        48000.0   \n",
       "\n",
       "       monthly_expenses  old_dependents  young_dependents  home_ownership  \\\n",
       "8451             3200.0               0                 0             1.0   \n",
       "28293            1500.0               0                 2             1.0   \n",
       "9948             4000.0               0                 0             1.0   \n",
       "32270            4000.0               0                 2             1.0   \n",
       "39564            1000.0               0                 3             1.0   \n",
       "\n",
       "       occupants_count  ...  loan_tenure  loan_installments  gender_M  \\\n",
       "8451                 0  ...           12                 12         0   \n",
       "28293                6  ...           12                 12         0   \n",
       "9948                 0  ...           12                 12         0   \n",
       "32270                4  ...           12                 12         0   \n",
       "39564                5  ...           12                 12         0   \n",
       "\n",
       "      gender_TG  house_type_T1  house_type_T2  \\\n",
       "8451          0              1              0   \n",
       "28293         0              0              1   \n",
       "9948          0              1              0   \n",
       "32270         0              0              1   \n",
       "39564         0              0              1   \n",
       "\n",
       "       sec_business_Daily wage labourer  sec_business_Livestock rearing  \\\n",
       "8451                                  0                               0   \n",
       "28293                                 0                               0   \n",
       "9948                                  0                               0   \n",
       "32270                                 0                               0   \n",
       "39564                                 0                               0   \n",
       "\n",
       "       sec_business_Others  sec_business_none  \n",
       "8451                     0                  1  \n",
       "28293                    0                  1  \n",
       "9948                     0                  1  \n",
       "32270                    1                  0  \n",
       "39564                    0                  1  \n",
       "\n",
       "[5 rows x 24 columns]"
      ]
     },
     "execution_count": 15,
     "metadata": {},
     "output_type": "execute_result"
    }
   ],
   "source": [
    "X_train.head()"
   ]
  },
  {
   "cell_type": "code",
   "execution_count": 16,
   "metadata": {},
   "outputs": [
    {
     "data": {
      "text/plain": [
       "Index(['city', 'age', 'social_class', 'primary_business', 'annual_income',\n",
       "       'monthly_expenses', 'old_dependents', 'young_dependents',\n",
       "       'home_ownership', 'occupants_count', 'house_area',\n",
       "       'sanitary_availability', 'water_availabity', 'loan_purpose',\n",
       "       'loan_tenure', 'loan_installments', 'gender_M', 'gender_TG',\n",
       "       'house_type_T1', 'house_type_T2', 'sec_business_Daily wage labourer',\n",
       "       'sec_business_Livestock rearing', 'sec_business_Others',\n",
       "       'sec_business_none'],\n",
       "      dtype='object')"
      ]
     },
     "execution_count": 16,
     "metadata": {},
     "output_type": "execute_result"
    }
   ],
   "source": [
    "X_train.columns"
   ]
  },
  {
   "cell_type": "markdown",
   "metadata": {},
   "source": [
    "##### Since the remaining categorical columns are highly cardinal in nature, We make use of hashing & frequency encoding to encode the variables."
   ]
  },
  {
   "cell_type": "code",
   "execution_count": 17,
   "metadata": {},
   "outputs": [],
   "source": [
    "## High  cardinal columns frequency mapping \n",
    "HCC=['loan_purpose','primary_business','social_class','city']\n",
    "for i in HCC:\n",
    "    xx=X_train[i].value_counts()/len(X_train)\n",
    "    X_train[i]=X_train[i].map(xx)"
   ]
  },
  {
   "cell_type": "code",
   "execution_count": 18,
   "metadata": {},
   "outputs": [
    {
     "data": {
      "text/html": [
       "<div>\n",
       "<style scoped>\n",
       "    .dataframe tbody tr th:only-of-type {\n",
       "        vertical-align: middle;\n",
       "    }\n",
       "\n",
       "    .dataframe tbody tr th {\n",
       "        vertical-align: top;\n",
       "    }\n",
       "\n",
       "    .dataframe thead th {\n",
       "        text-align: right;\n",
       "    }\n",
       "</style>\n",
       "<table border=\"1\" class=\"dataframe\">\n",
       "  <thead>\n",
       "    <tr style=\"text-align: right;\">\n",
       "      <th></th>\n",
       "      <th>city</th>\n",
       "      <th>age</th>\n",
       "      <th>social_class</th>\n",
       "      <th>primary_business</th>\n",
       "      <th>annual_income</th>\n",
       "      <th>monthly_expenses</th>\n",
       "      <th>old_dependents</th>\n",
       "      <th>young_dependents</th>\n",
       "      <th>home_ownership</th>\n",
       "      <th>occupants_count</th>\n",
       "      <th>...</th>\n",
       "      <th>loan_tenure</th>\n",
       "      <th>loan_installments</th>\n",
       "      <th>gender_M</th>\n",
       "      <th>gender_TG</th>\n",
       "      <th>house_type_T1</th>\n",
       "      <th>house_type_T2</th>\n",
       "      <th>sec_business_Daily wage labourer</th>\n",
       "      <th>sec_business_Livestock rearing</th>\n",
       "      <th>sec_business_Others</th>\n",
       "      <th>sec_business_none</th>\n",
       "    </tr>\n",
       "  </thead>\n",
       "  <tbody>\n",
       "    <tr>\n",
       "      <th>8451</th>\n",
       "      <td>0.124216</td>\n",
       "      <td>40</td>\n",
       "      <td>0.398619</td>\n",
       "      <td>0.001978</td>\n",
       "      <td>0.0</td>\n",
       "      <td>3200.0</td>\n",
       "      <td>0</td>\n",
       "      <td>0</td>\n",
       "      <td>1.0</td>\n",
       "      <td>0</td>\n",
       "      <td>...</td>\n",
       "      <td>12</td>\n",
       "      <td>12</td>\n",
       "      <td>0</td>\n",
       "      <td>0</td>\n",
       "      <td>1</td>\n",
       "      <td>0</td>\n",
       "      <td>0</td>\n",
       "      <td>0</td>\n",
       "      <td>0</td>\n",
       "      <td>1</td>\n",
       "    </tr>\n",
       "    <tr>\n",
       "      <th>28293</th>\n",
       "      <td>0.043582</td>\n",
       "      <td>36</td>\n",
       "      <td>0.398619</td>\n",
       "      <td>0.033955</td>\n",
       "      <td>36000.0</td>\n",
       "      <td>1500.0</td>\n",
       "      <td>0</td>\n",
       "      <td>2</td>\n",
       "      <td>1.0</td>\n",
       "      <td>6</td>\n",
       "      <td>...</td>\n",
       "      <td>12</td>\n",
       "      <td>12</td>\n",
       "      <td>0</td>\n",
       "      <td>0</td>\n",
       "      <td>0</td>\n",
       "      <td>1</td>\n",
       "      <td>0</td>\n",
       "      <td>0</td>\n",
       "      <td>0</td>\n",
       "      <td>1</td>\n",
       "    </tr>\n",
       "    <tr>\n",
       "      <th>9948</th>\n",
       "      <td>0.020672</td>\n",
       "      <td>36</td>\n",
       "      <td>0.398619</td>\n",
       "      <td>0.030261</td>\n",
       "      <td>0.0</td>\n",
       "      <td>4000.0</td>\n",
       "      <td>0</td>\n",
       "      <td>0</td>\n",
       "      <td>1.0</td>\n",
       "      <td>0</td>\n",
       "      <td>...</td>\n",
       "      <td>12</td>\n",
       "      <td>12</td>\n",
       "      <td>0</td>\n",
       "      <td>0</td>\n",
       "      <td>1</td>\n",
       "      <td>0</td>\n",
       "      <td>0</td>\n",
       "      <td>0</td>\n",
       "      <td>0</td>\n",
       "      <td>1</td>\n",
       "    </tr>\n",
       "    <tr>\n",
       "      <th>32270</th>\n",
       "      <td>0.014142</td>\n",
       "      <td>36</td>\n",
       "      <td>0.057463</td>\n",
       "      <td>0.018582</td>\n",
       "      <td>50400.0</td>\n",
       "      <td>4000.0</td>\n",
       "      <td>0</td>\n",
       "      <td>2</td>\n",
       "      <td>1.0</td>\n",
       "      <td>4</td>\n",
       "      <td>...</td>\n",
       "      <td>12</td>\n",
       "      <td>12</td>\n",
       "      <td>0</td>\n",
       "      <td>0</td>\n",
       "      <td>0</td>\n",
       "      <td>1</td>\n",
       "      <td>0</td>\n",
       "      <td>0</td>\n",
       "      <td>1</td>\n",
       "      <td>0</td>\n",
       "    </tr>\n",
       "    <tr>\n",
       "      <th>39564</th>\n",
       "      <td>0.043582</td>\n",
       "      <td>38</td>\n",
       "      <td>0.398619</td>\n",
       "      <td>0.029216</td>\n",
       "      <td>48000.0</td>\n",
       "      <td>1000.0</td>\n",
       "      <td>0</td>\n",
       "      <td>3</td>\n",
       "      <td>1.0</td>\n",
       "      <td>5</td>\n",
       "      <td>...</td>\n",
       "      <td>12</td>\n",
       "      <td>12</td>\n",
       "      <td>0</td>\n",
       "      <td>0</td>\n",
       "      <td>0</td>\n",
       "      <td>1</td>\n",
       "      <td>0</td>\n",
       "      <td>0</td>\n",
       "      <td>0</td>\n",
       "      <td>1</td>\n",
       "    </tr>\n",
       "  </tbody>\n",
       "</table>\n",
       "<p>5 rows × 24 columns</p>\n",
       "</div>"
      ],
      "text/plain": [
       "           city  age  social_class  primary_business  annual_income  \\\n",
       "8451   0.124216   40      0.398619          0.001978            0.0   \n",
       "28293  0.043582   36      0.398619          0.033955        36000.0   \n",
       "9948   0.020672   36      0.398619          0.030261            0.0   \n",
       "32270  0.014142   36      0.057463          0.018582        50400.0   \n",
       "39564  0.043582   38      0.398619          0.029216        48000.0   \n",
       "\n",
       "       monthly_expenses  old_dependents  young_dependents  home_ownership  \\\n",
       "8451             3200.0               0                 0             1.0   \n",
       "28293            1500.0               0                 2             1.0   \n",
       "9948             4000.0               0                 0             1.0   \n",
       "32270            4000.0               0                 2             1.0   \n",
       "39564            1000.0               0                 3             1.0   \n",
       "\n",
       "       occupants_count  ...  loan_tenure  loan_installments  gender_M  \\\n",
       "8451                 0  ...           12                 12         0   \n",
       "28293                6  ...           12                 12         0   \n",
       "9948                 0  ...           12                 12         0   \n",
       "32270                4  ...           12                 12         0   \n",
       "39564                5  ...           12                 12         0   \n",
       "\n",
       "       gender_TG  house_type_T1  house_type_T2  \\\n",
       "8451           0              1              0   \n",
       "28293          0              0              1   \n",
       "9948           0              1              0   \n",
       "32270          0              0              1   \n",
       "39564          0              0              1   \n",
       "\n",
       "       sec_business_Daily wage labourer  sec_business_Livestock rearing  \\\n",
       "8451                                  0                               0   \n",
       "28293                                 0                               0   \n",
       "9948                                  0                               0   \n",
       "32270                                 0                               0   \n",
       "39564                                 0                               0   \n",
       "\n",
       "       sec_business_Others  sec_business_none  \n",
       "8451                     0                  1  \n",
       "28293                    0                  1  \n",
       "9948                     0                  1  \n",
       "32270                    1                  0  \n",
       "39564                    0                  1  \n",
       "\n",
       "[5 rows x 24 columns]"
      ]
     },
     "execution_count": 18,
     "metadata": {},
     "output_type": "execute_result"
    }
   ],
   "source": [
    "X_train.head()"
   ]
  },
  {
   "cell_type": "code",
   "execution_count": 19,
   "metadata": {},
   "outputs": [
    {
     "data": {
      "text/plain": [
       "8451     0.124216\n",
       "28293    0.043582\n",
       "9948     0.020672\n",
       "32270    0.014142\n",
       "39564    0.043582\n",
       "           ...   \n",
       "6265     0.000485\n",
       "11284    0.000261\n",
       "38158    0.000299\n",
       "860      0.001604\n",
       "15795    0.043582\n",
       "Name: city, Length: 26800, dtype: float64"
      ]
     },
     "execution_count": 19,
     "metadata": {},
     "output_type": "execute_result"
    }
   ],
   "source": [
    "X_train['city']"
   ]
  },
  {
   "cell_type": "markdown",
   "metadata": {},
   "source": [
    "### Finding the Nature of target variable"
   ]
  },
  {
   "cell_type": "code",
   "execution_count": 20,
   "metadata": {},
   "outputs": [
    {
     "data": {
      "text/plain": [
       "count    2.680000e+04\n",
       "mean     8.413123e+03\n",
       "std      1.361398e+04\n",
       "min      2.000000e+02\n",
       "25%      5.000000e+03\n",
       "50%      8.000000e+03\n",
       "75%      1.000000e+04\n",
       "max      1.343000e+06\n",
       "Name: loan_amount, dtype: float64"
      ]
     },
     "execution_count": 20,
     "metadata": {},
     "output_type": "execute_result"
    }
   ],
   "source": [
    "y_train.describe()"
   ]
  },
  {
   "cell_type": "code",
   "execution_count": 21,
   "metadata": {},
   "outputs": [
    {
     "data": {
      "text/plain": [
       "<AxesSubplot:xlabel='loan_amount'>"
      ]
     },
     "execution_count": 21,
     "metadata": {},
     "output_type": "execute_result"
    },
    {
     "data": {
      "image/png": "[encoded data removed]",
      "text/plain": [
       "<Figure size 432x288 with 1 Axes>"
      ]
     },
     "metadata": {
      "needs_background": "light"
     },
     "output_type": "display_data"
    }
   ],
   "source": [
    "sns.distplot(y_train)"
   ]
  },
  {
   "cell_type": "code",
   "execution_count": 22,
   "metadata": {},
   "outputs": [
    {
     "data": {
      "text/plain": [
       "<AxesSubplot:xlabel='loan_amount'>"
      ]
     },
     "execution_count": 22,
     "metadata": {},
     "output_type": "execute_result"
    },
    {
     "data": {
      "image/png": "[encoded data removed]",
      "text/plain": [
       "<Figure size 432x288 with 1 Axes>"
      ]
     },
     "metadata": {
      "needs_background": "light"
     },
     "output_type": "display_data"
    }
   ],
   "source": [
    "sns.boxplot(y_train)"
   ]
  },
  {
   "cell_type": "code",
   "execution_count": 23,
   "metadata": {},
   "outputs": [],
   "source": [
    "#### we can clearly see there are few outlier removing these outliers \n",
    "#### Removing outliers"
   ]
  },
  {
   "cell_type": "code",
   "execution_count": 24,
   "metadata": {},
   "outputs": [
    {
     "name": "stdout",
     "output_type": "stream",
     "text": [
      "5000.0 8000.0 10000.0\n",
      "-2500.0\n",
      "30000.0\n"
     ]
    }
   ],
   "source": [
    "q1,q2,q3=np.percentile(y_train, [25, 50, 75])\n",
    "print(q1,q2,q3)\n",
    "iqr_value=q3-q1\n",
    "lower_bond_value=q1-(1.5*iqr_value)\n",
    "upper_bond_value=q3+(4*iqr_value)\n",
    "print(lower_bond_value)\n",
    "print(upper_bond_value)"
   ]
  },
  {
   "cell_type": "code",
   "execution_count": 25,
   "metadata": {},
   "outputs": [],
   "source": [
    "index_to_drop=y_train[y_train>upper_bond_value].index\n",
    "## we have to drop values having these index from both x_train and y_train"
   ]
  },
  {
   "cell_type": "code",
   "execution_count": 26,
   "metadata": {},
   "outputs": [],
   "source": [
    "X_train.drop(index_to_drop,axis=0,inplace=True)"
   ]
  },
  {
   "cell_type": "code",
   "execution_count": 27,
   "metadata": {},
   "outputs": [],
   "source": [
    "y_train.drop(index_to_drop,axis=0,inplace=True)"
   ]
  },
  {
   "cell_type": "code",
   "execution_count": null,
   "metadata": {},
   "outputs": [],
   "source": [
    "sns.distplot(y_train)"
   ]
  },
  {
   "cell_type": "code",
   "execution_count": null,
   "metadata": {},
   "outputs": [],
   "source": [
    "print(\"Skewness: %f\" % y_train.skew())"
   ]
  },
  {
   "cell_type": "markdown",
   "metadata": {},
   "source": [
    "* If skewness is not close to zero, then your data set is not normally distributed.\n",
    "* If skewness is less than -1 or greater than 1, the distribution is highly skewed.\n",
    "* If skewness is between -1 and -0.5 or between 0.5 and 1, the distribution is moderately skewed.\n",
    "* If skewness is between -0.5 and 0.5, the distribution is approximately symmetric."
   ]
  },
  {
   "cell_type": "markdown",
   "metadata": {},
   "source": [
    "#### The target variable is positively skewed with a mean value close to 8400, we will have to apply transformation to convert it to near normal distribution."
   ]
  },
  {
   "cell_type": "code",
   "execution_count": null,
   "metadata": {},
   "outputs": [],
   "source": [
    "y_train_n1 = np.log(y_train)\n",
    "sns.distplot(y_train_n1)\n",
    "print(\"Skewness: %f\" % y_train_n1.skew())"
   ]
  },
  {
   "cell_type": "markdown",
   "metadata": {},
   "source": [
    "##### We have successfully brought down the skew value from - 0.159 so the distribution is almost normal."
   ]
  },
  {
   "cell_type": "markdown",
   "metadata": {},
   "source": [
    "#### Joining X_train and y_train again to check the correlation."
   ]
  },
  {
   "cell_type": "code",
   "execution_count": null,
   "metadata": {},
   "outputs": [],
   "source": [
    "train_df=pd.concat([X_train,pd.DataFrame(y_train_n1,columns=['loan_amount'])],axis=1)\n",
    "train_df"
   ]
  },
  {
   "cell_type": "code",
   "execution_count": null,
   "metadata": {},
   "outputs": [],
   "source": [
    "corr1=train_df.corr()['loan_amount'].sort_values(ascending=False)[:10]\n",
    "corr1"
   ]
  },
  {
   "cell_type": "code",
   "execution_count": null,
   "metadata": {},
   "outputs": [],
   "source": [
    "corr2=train_df[corr1.index].corr()\n",
    "plt.figure(figsize=(16,8))\n",
    "sns.heatmap(corr2,annot=True,cmap = 'viridis')"
   ]
  },
  {
   "attachments": {
    "VIF.JPG": {
     "image/jpeg": "[encoded data removed]"
    }
   },
   "cell_type": "markdown",
   "metadata": {},
   "source": [
    "###  Removing Multicolinearity using VIF\n",
    "* VIF determines the strength of the correlation between the independent variables. It is predicted by taking a variable and regressing it against every other variable.\n",
    "* VIF score of an independent variable represents how well the variable is explained by other independent variables.\n",
    "* R^2 value is determined to find out how well an independent variable is described by the other independent variables. A high value of R^2 means that the variable is highly correlated with the other variables. This is captured by the VIF which is denoted below:\n",
    "![VIF.JPG](attachment:VIF.JPG)\n",
    "* So, the closer the R^2 value to 1, the higher the value of VIF and the higher the multicollinearity with the particular independent variable.\n",
    "* VIF starts at 1 and has no upper limit\n",
    "* VIF = 1, no correlation between the independent variable and the other variables\n",
    "* VIF exceeding 5 or 10 indicates high multicollinearity between this independent variable and the others\n",
    "* https://www.statsmodels.org/stable/generated/statsmodels.stats.outliers_influence.variance_inflation_factor.html"
   ]
  },
  {
   "cell_type": "code",
   "execution_count": null,
   "metadata": {},
   "outputs": [],
   "source": [
    "vif = [VIF(X_train.values, i) for i in range(X_train.shape[1])]\n",
    "print(vif)"
   ]
  },
  {
   "cell_type": "code",
   "execution_count": null,
   "metadata": {},
   "outputs": [],
   "source": [
    "vif_df=pd.Series(vif,index=X_train.columns)\n",
    "print(vif_df)\n",
    "multi_coliner_f=vif_df[vif_df>=5].index.tolist()\n",
    "multi_coliner_f"
   ]
  },
  {
   "cell_type": "code",
   "execution_count": null,
   "metadata": {},
   "outputs": [],
   "source": [
    "# If there had been multicolineary we have had to drop those columns as given below\n",
    "X_train.drop(multi_coliner_f,inplace=True,axis=1)"
   ]
  },
  {
   "cell_type": "markdown",
   "metadata": {},
   "source": [
    "#### Normalizing the data"
   ]
  },
  {
   "cell_type": "code",
   "execution_count": null,
   "metadata": {},
   "outputs": [],
   "source": [
    "X_train_normalized = (X_train - X_train.mean())/X_train.std()"
   ]
  },
  {
   "cell_type": "code",
   "execution_count": null,
   "metadata": {},
   "outputs": [],
   "source": [
    "len(X_train_normalized.columns)"
   ]
  },
  {
   "cell_type": "markdown",
   "metadata": {},
   "source": [
    "#### Making Fuction so that test set can be prepared before feeding into model for prediction"
   ]
  },
  {
   "cell_type": "code",
   "execution_count": null,
   "metadata": {},
   "outputs": [],
   "source": [
    "def test_set_Prepare(x_test):\n",
    "    x_test = pd.get_dummies(x_test, columns=[\"sex\", \"type_of_house\", \"secondary_business\"], \n",
    "                         prefix=[\"gender\", \"house_type\", \"sec_business\"],drop_first=True)\n",
    "## High  cardinal columns frequency mapping \n",
    "    HCC=['loan_purpose','primary_business','social_class','city']\n",
    "    for i in HCC:\n",
    "        xx=x_test[i].value_counts()/len(x_test)\n",
    "        x_test[i]=x_test[i].map(xx)\n",
    "    multi_coliner_f=['home_ownership', 'water_availabity','loan_purpose','loan_tenure', 'sec_business_none']\n",
    "    x_test.drop(multi_coliner_f,inplace=True,axis=1)\n",
    "    x_test = (x_test - X_train.mean())/X_train.std()\n",
    "    return x_test"
   ]
  },
  {
   "cell_type": "code",
   "execution_count": null,
   "metadata": {},
   "outputs": [],
   "source": [
    "x_test_prepared=test_set_Prepare(X_test)"
   ]
  },
  {
   "cell_type": "code",
   "execution_count": null,
   "metadata": {},
   "outputs": [],
   "source": [
    "x_test_prepared.shape"
   ]
  },
  {
   "cell_type": "markdown",
   "metadata": {},
   "source": [
    "#### Transformation of y_test by taking log"
   ]
  },
  {
   "cell_type": "code",
   "execution_count": null,
   "metadata": {},
   "outputs": [],
   "source": [
    "y_test_n1=np.log(y_test)\n",
    "y_test_n1.values"
   ]
  },
  {
   "cell_type": "code",
   "execution_count": null,
   "metadata": {},
   "outputs": [],
   "source": [
    "from sklearn.linear_model import LinearRegression as lr\n",
    "reg = lr()"
   ]
  },
  {
   "cell_type": "code",
   "execution_count": null,
   "metadata": {},
   "outputs": [],
   "source": [
    "reg.fit(X_train_normalized, y_train_n1)"
   ]
  },
  {
   "cell_type": "code",
   "execution_count": null,
   "metadata": {},
   "outputs": [],
   "source": [
    "y_pred=reg.predict(x_test_prepared)\n",
    "y_pred"
   ]
  },
  {
   "cell_type": "code",
   "execution_count": null,
   "metadata": {},
   "outputs": [],
   "source": [
    "## Making functions for checking accuracy"
   ]
  },
  {
   "cell_type": "code",
   "execution_count": null,
   "metadata": {},
   "outputs": [],
   "source": [
    "from sklearn import metrics\n",
    "def Accuracy(y_test,y_pred):\n",
    "    print('Mean Absolute Error:', metrics.mean_absolute_error(y_test, y_pred))  \n",
    "    print('Mean Squared Error:', metrics.mean_squared_error(y_test, y_pred))  \n",
    "    print('Root Mean Squared Error:', np.sqrt(metrics.mean_squared_error(y_test, y_pred)))"
   ]
  },
  {
   "cell_type": "code",
   "execution_count": null,
   "metadata": {},
   "outputs": [],
   "source": [
    "Accuracy(y_test_n1,y_pred)"
   ]
  },
  {
   "cell_type": "code",
   "execution_count": null,
   "metadata": {},
   "outputs": [],
   "source": [
    "## Plotting first 100 values for both given and predicted values and comparing\n",
    "plt.figure(figsize=(12,5))\n",
    "x=np.arange(len(y_test_n1[:100]))\n",
    "plt.plot(x,y_test_n1[:100],label='Given')\n",
    "plt.plot(x,y_pred[:100],c='r',label='Predicted')\n",
    "plt.legend()\n",
    "plt.show()\n"
   ]
  },
  {
   "cell_type": "markdown",
   "metadata": {},
   "source": [
    "#### Convering back the y_pred to its original scale and  comparing with original y_test value."
   ]
  },
  {
   "cell_type": "code",
   "execution_count": null,
   "metadata": {},
   "outputs": [],
   "source": [
    "y_pred_scale_back=np.exp(y_pred)\n",
    "y_pred_scale_back"
   ]
  },
  {
   "cell_type": "code",
   "execution_count": null,
   "metadata": {},
   "outputs": [],
   "source": [
    "plt.figure(figsize=(12,5))\n",
    "x=np.arange(len(y_test[:100]))\n",
    "plt.plot(x,y_test[:100],label='Given')\n",
    "plt.plot(x,y_pred_scale_back[:100],c='r',label='Predicted')\n",
    "plt.legend()\n",
    "plt.show()"
   ]
  }
 ],
 "metadata": {
  "kernelspec": {
   "display_name": "Python 3",
   "language": "python",
   "name": "python3"
  },
  "language_info": {
   "codemirror_mode": {
    "name": "ipython",
    "version": 3
   },
   "file_extension": ".py",
   "mimetype": "text/x-python",
   "name": "python",
   "nbconvert_exporter": "python",
   "pygments_lexer": "ipython3",
   "version": "3.7.1"
  }
 },
 "nbformat": 4,
 "nbformat_minor": 2
}
