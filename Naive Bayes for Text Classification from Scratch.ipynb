{
 "cells": [
  {
   "cell_type": "markdown",
   "metadata": {},
   "source": [
    "### Multinomial Naive Bayes for Text Classification from scratch"
   ]
  },
  {
   "cell_type": "code",
   "execution_count": 1,
   "metadata": {},
   "outputs": [],
   "source": [
    "import os\n",
    "import numpy as np\n",
    "import matplotlib.pyplot as plt\n",
    "from sklearn import model_selection\n",
    "from sklearn.naive_bayes import MultinomialNB\n",
    "from sklearn.metrics import classification_report\n",
    "import seaborn as sns"
   ]
  },
  {
   "cell_type": "code",
   "execution_count": 2,
   "metadata": {},
   "outputs": [],
   "source": [
    "from nltk.corpus import stopwords\n",
    "import string"
   ]
  },
  {
   "cell_type": "code",
   "execution_count": 3,
   "metadata": {},
   "outputs": [],
   "source": [
    "# A list of common english words which should not affect predictions\n",
    "STOPWORDS=list(stopwords.words('english'))"
   ]
  },
  {
   "cell_type": "code",
   "execution_count": 4,
   "metadata": {},
   "outputs": [],
   "source": [
    "X = [] # an element of X is represented as (filename,text)\n",
    "Y = [] # an element of Y represents the newsgroup category of the corresponding X element\n",
    "for category in os.listdir(r'E:\\Machine Learning\\Teaching ML_Data Analysis\\NLP\\mini_newsgroups'):\n",
    "    for document in os.listdir(r'E:\\Machine Learning\\Teaching ML_Data Analysis\\NLP\\mini_newsgroups'+ '\\\\' + category):\n",
    "        with open(r'E:\\Machine Learning\\Teaching ML_Data Analysis\\NLP\\mini_newsgroups\\\\'+ category + '\\\\' + document, \"r\") as f:\n",
    "            X.append((document,f.read()))\n",
    "            Y.append(category)"
   ]
  },
  {
   "cell_type": "markdown",
   "metadata": {},
   "source": [
    "#### Note: Smaller data_set is used to understand the concept and theory otherwise it may take too long to train the model. Being trained on smaller data set, accuracy is low for the developed model.\n",
    "#### One can try full fledged data set available and accuracy will be much higher than this.\n",
    "#### Data and its Description: https://archive.ics.uci.edu/ml/datasets/Twenty+Newsgroups"
   ]
  },
  {
   "cell_type": "code",
   "execution_count": 5,
   "metadata": {},
   "outputs": [],
   "source": [
    "X_train, X_test, Y_train, Y_test = model_selection.train_test_split(X, Y, test_size=0.25, random_state=0)"
   ]
  },
  {
   "cell_type": "code",
   "execution_count": 6,
   "metadata": {},
   "outputs": [
    {
     "name": "stdout",
     "output_type": "stream",
     "text": [
      "1500\n",
      "1500\n",
      "500\n",
      "500\n"
     ]
    }
   ],
   "source": [
    "print(len(X_train))\n",
    "print(len(Y_train))     \n",
    "print(len(X_test))\n",
    "print(len(Y_test))"
   ]
  },
  {
   "cell_type": "code",
   "execution_count": 44,
   "metadata": {},
   "outputs": [
    {
     "data": {
      "text/plain": [
       "('50473',\n",
       " \"Path: cantaloupe.srv.cs.cmu.edu!crabapple.srv.cs.cmu.edu!fs7.ece.cmu.edu!europa.eng.gtefsd.com!howland.reston.ans.net!usc!cs.utexas.edu!uunet!pipex!marble.uknet.ac.uk!uknet!acorn!camcon!aw\\nFrom: aw@camcon.co.uk (Alain Waha)\\nNewsgroups: comp.sys.mac.hardware\\nSubject: Re: New Duo Dock info.\\nMessage-ID: <30003@io.camcon.co.uk>\\nDate: 6 Apr 93 08:55:26 GMT\\nReferences: <nazario-040493023201@stiles-42-kstar-node.net.yale.edu> <1993Apr4.164142.14744@umiami.ir.miami.edu> <nazario-050493004102@stiles-42-kstar-node.net.yale.edu>\\nOrganization: Cambridge Consultants Ltd., Cambridge, UK\\nLines: 7\\n\\n>> In article <nazario-040493023201@stiles-42-kstar-node.net.yale.edu>, nazario@pop.cis.yale.edu (Edgardo Nazario) writes:\\n>> > The info I am about to give is not a rumour, it's the truth. The new\\n>> > macintosh coming in the second quarter, will have a cpu of their own. \\n\\nExcuse me but... have not all Macs got a CPU!!!\\n\\nAlain\\n\")"
      ]
     },
     "execution_count": 44,
     "metadata": {},
     "output_type": "execute_result"
    }
   ],
   "source": [
    "X_test[0]"
   ]
  },
  {
   "cell_type": "code",
   "execution_count": 45,
   "metadata": {},
   "outputs": [
    {
     "data": {
      "text/plain": [
       "'comp.sys.mac.hardware'"
      ]
     },
     "execution_count": 45,
     "metadata": {},
     "output_type": "execute_result"
    }
   ],
   "source": [
    "Y_test[0]"
   ]
  },
  {
   "cell_type": "code",
   "execution_count": 10,
   "metadata": {},
   "outputs": [],
   "source": [
    "# Building a vocabulary of words from the given documents\n",
    "vocab = {}\n",
    "for i in range(len(X_train)):\n",
    "    word_list = []\n",
    "    for word in X_train[i][1].split():\n",
    "        word_new  = word.strip(string.punctuation).lower()\n",
    "        if (len(word_new)>2)  and (word_new not in STOPWORDS):  \n",
    "            if word_new in vocab:\n",
    "                vocab[word_new]+=1\n",
    "            else:\n",
    "                vocab[word_new]=1"
   ]
  },
  {
   "cell_type": "code",
   "execution_count": 11,
   "metadata": {},
   "outputs": [
    {
     "data": {
      "text/plain": [
       "45610"
      ]
     },
     "execution_count": 11,
     "metadata": {},
     "output_type": "execute_result"
    }
   ],
   "source": [
    "len(vocab.keys())"
   ]
  },
  {
   "cell_type": "markdown",
   "metadata": {},
   "source": [
    "### Frequency Calculation of words"
   ]
  },
  {
   "cell_type": "code",
   "execution_count": 12,
   "metadata": {},
   "outputs": [
    {
     "data": {
      "image/png": "[encoded data removed]",
      "text/plain": [
       "<Figure size 432x288 with 1 Axes>"
      ]
     },
     "metadata": {
      "needs_background": "light"
     },
     "output_type": "display_data"
    }
   ],
   "source": [
    "num_words = [0 for i in range(max(vocab.values())+1)] \n",
    "freq = [i for i in range(max(vocab.values())+1)]\n",
    "for key in vocab:\n",
    "    num_words[vocab[key]]+=1\n",
    "plt.plot(freq,num_words)\n",
    "plt.axis([1, 10, 0, 20000])\n",
    "plt.xlabel(\"Frequency\")\n",
    "plt.ylabel(\"No of words\")\n",
    "plt.grid()\n",
    "plt.show()"
   ]
  },
  {
   "cell_type": "code",
   "execution_count": 13,
   "metadata": {},
   "outputs": [
    {
     "name": "stdout",
     "output_type": "stream",
     "text": [
      "Number of words with frequency higher than cutoff frequency(80) : 442\n"
     ]
    }
   ],
   "source": [
    "cutoff_freq = 80\n",
    "# For deciding cutoff frequency\n",
    "num_words_above_cutoff = len(vocab)-sum(num_words[0:cutoff_freq]) \n",
    "print(\"Number of words with frequency higher than cutoff frequency({}) :\".format(cutoff_freq),num_words_above_cutoff)"
   ]
  },
  {
   "cell_type": "code",
   "execution_count": 14,
   "metadata": {},
   "outputs": [],
   "source": [
    "# Words with frequency higher than cutoff frequency are chosen as features\n",
    "# (i.e we remove words with low frequencies as they would not be significant )\n",
    "features = []\n",
    "for key in vocab:\n",
    "    if vocab[key] >=cutoff_freq:\n",
    "        features.append(key)"
   ]
  },
  {
   "cell_type": "code",
   "execution_count": 15,
   "metadata": {},
   "outputs": [
    {
     "data": {
      "text/plain": [
       "442"
      ]
     },
     "execution_count": 15,
     "metadata": {},
     "output_type": "execute_result"
    }
   ],
   "source": [
    "len(features)"
   ]
  },
  {
   "cell_type": "markdown",
   "metadata": {},
   "source": [
    "### Vectorising the dataset"
   ]
  },
  {
   "cell_type": "code",
   "execution_count": 16,
   "metadata": {},
   "outputs": [],
   "source": [
    "# To represent training data as word vector counts\n",
    "X_train_dataset = np.zeros((len(X_train),len(features)))\n",
    "# This can take some time to complete\n",
    "for i in range(len(X_train)):\n",
    "    word_list = [ word.strip(string.punctuation).lower() for word in X_train[i][1].split()]\n",
    "    for word in word_list:\n",
    "        if word in features:\n",
    "            X_train_dataset[i][features.index(word)] += 1"
   ]
  },
  {
   "cell_type": "code",
   "execution_count": 17,
   "metadata": {},
   "outputs": [
    {
     "data": {
      "text/plain": [
       "array([[1., 1., 2., ..., 0., 0., 0.],\n",
       "       [1., 1., 0., ..., 0., 0., 0.],\n",
       "       [1., 1., 0., ..., 0., 0., 0.],\n",
       "       ...,\n",
       "       [1., 1., 0., ..., 0., 0., 0.],\n",
       "       [1., 1., 0., ..., 0., 0., 0.],\n",
       "       [1., 1., 0., ..., 0., 0., 0.]])"
      ]
     },
     "execution_count": 17,
     "metadata": {},
     "output_type": "execute_result"
    }
   ],
   "source": [
    "X_train_dataset"
   ]
  },
  {
   "cell_type": "code",
   "execution_count": 18,
   "metadata": {},
   "outputs": [],
   "source": [
    "# To represent test data as word vector counts\n",
    "X_test_dataset = np.zeros((len(X_test),len(features)))\n",
    "# This can take some time to complete\n",
    "for i in range(len(X_test)):\n",
    "    word_list = [ word.strip(string.punctuation).lower() for word in X_test[i][1].split()]\n",
    "    for word in word_list:\n",
    "        if word in features:\n",
    "            X_test_dataset[i][features.index(word)] += 1"
   ]
  },
  {
   "cell_type": "markdown",
   "metadata": {},
   "source": [
    "### 1. Using sklearn's Multinomial Naive Bayes"
   ]
  },
  {
   "cell_type": "code",
   "execution_count": 19,
   "metadata": {},
   "outputs": [
    {
     "name": "stdout",
     "output_type": "stream",
     "text": [
      "Sklearn's score on training data : 0.7426666666666667\n",
      "Sklearn's score on testing data : 0.508\n"
     ]
    }
   ],
   "source": [
    "############### Model Building #################\n",
    "clf = MultinomialNB()\n",
    "clf.fit(X_train_dataset,Y_train)\n",
    "############### Prediction #####################\n",
    "Y_test_pred = clf.predict(X_test_dataset)\n",
    "############## Accuracy Calculation ############\n",
    "sklearn_score_train = clf.score(X_train_dataset,Y_train)\n",
    "print(\"Sklearn's score on training data :\",sklearn_score_train)\n",
    "sklearn_score_test = clf.score(X_test_dataset,Y_test)\n",
    "print(\"Sklearn's score on testing data :\",sklearn_score_test)"
   ]
  },
  {
   "cell_type": "code",
   "execution_count": 20,
   "metadata": {
    "collapsed": true
   },
   "outputs": [
    {
     "data": {
      "text/plain": [
       "['comp.sys.mac.hardware',\n",
       " 'sci.crypt',\n",
       " 'sci.crypt',\n",
       " 'rec.autos',\n",
       " 'talk.politics.mideast',\n",
       " 'sci.crypt',\n",
       " 'soc.religion.christian',\n",
       " 'sci.med',\n",
       " 'talk.politics.misc',\n",
       " 'alt.atheism',\n",
       " 'sci.electronics',\n",
       " 'soc.religion.christian',\n",
       " 'comp.os.ms-windows.misc',\n",
       " 'comp.graphics',\n",
       " 'rec.autos',\n",
       " 'talk.politics.misc',\n",
       " 'comp.sys.mac.hardware',\n",
       " 'talk.religion.misc',\n",
       " 'soc.religion.christian',\n",
       " 'sci.electronics',\n",
       " 'talk.religion.misc',\n",
       " 'sci.electronics',\n",
       " 'rec.autos',\n",
       " 'soc.religion.christian',\n",
       " 'rec.sport.hockey',\n",
       " 'sci.med',\n",
       " 'comp.sys.mac.hardware',\n",
       " 'sci.crypt',\n",
       " 'comp.windows.x',\n",
       " 'talk.religion.misc',\n",
       " 'sci.electronics',\n",
       " 'sci.crypt',\n",
       " 'talk.religion.misc',\n",
       " 'talk.politics.mideast',\n",
       " 'rec.sport.hockey',\n",
       " 'comp.sys.mac.hardware',\n",
       " 'rec.sport.hockey',\n",
       " 'comp.graphics',\n",
       " 'comp.sys.mac.hardware',\n",
       " 'rec.sport.baseball',\n",
       " 'alt.atheism',\n",
       " 'sci.med',\n",
       " 'sci.electronics',\n",
       " 'alt.atheism',\n",
       " 'talk.politics.guns',\n",
       " 'comp.windows.x',\n",
       " 'comp.sys.ibm.pc.hardware',\n",
       " 'comp.os.ms-windows.misc',\n",
       " 'talk.politics.mideast',\n",
       " 'sci.crypt',\n",
       " 'soc.religion.christian',\n",
       " 'sci.med',\n",
       " 'alt.atheism',\n",
       " 'comp.windows.x',\n",
       " 'comp.os.ms-windows.misc',\n",
       " 'rec.sport.baseball',\n",
       " 'comp.sys.mac.hardware',\n",
       " 'talk.politics.mideast',\n",
       " 'rec.sport.hockey',\n",
       " 'soc.religion.christian',\n",
       " 'rec.motorcycles',\n",
       " 'soc.religion.christian',\n",
       " 'sci.crypt',\n",
       " 'sci.med',\n",
       " 'alt.atheism',\n",
       " 'rec.autos',\n",
       " 'rec.sport.baseball',\n",
       " 'sci.electronics',\n",
       " 'comp.windows.x',\n",
       " 'comp.sys.ibm.pc.hardware',\n",
       " 'comp.os.ms-windows.misc',\n",
       " 'rec.motorcycles',\n",
       " 'talk.politics.misc',\n",
       " 'talk.politics.mideast',\n",
       " 'comp.sys.ibm.pc.hardware',\n",
       " 'talk.politics.guns',\n",
       " 'comp.graphics',\n",
       " 'comp.graphics',\n",
       " 'talk.politics.mideast',\n",
       " 'soc.religion.christian',\n",
       " 'rec.sport.baseball',\n",
       " 'comp.graphics',\n",
       " 'comp.sys.ibm.pc.hardware',\n",
       " 'sci.crypt',\n",
       " 'talk.politics.guns',\n",
       " 'comp.os.ms-windows.misc',\n",
       " 'talk.politics.mideast',\n",
       " 'comp.os.ms-windows.misc',\n",
       " 'comp.sys.mac.hardware',\n",
       " 'comp.sys.ibm.pc.hardware',\n",
       " 'alt.atheism',\n",
       " 'rec.sport.hockey',\n",
       " 'comp.graphics',\n",
       " 'sci.space',\n",
       " 'soc.religion.christian',\n",
       " 'talk.religion.misc',\n",
       " 'talk.religion.misc',\n",
       " 'alt.atheism',\n",
       " 'talk.politics.misc',\n",
       " 'comp.os.ms-windows.misc',\n",
       " 'talk.religion.misc',\n",
       " 'sci.electronics',\n",
       " 'comp.windows.x',\n",
       " 'soc.religion.christian',\n",
       " 'alt.atheism',\n",
       " 'rec.motorcycles',\n",
       " 'sci.crypt',\n",
       " 'talk.politics.guns',\n",
       " 'sci.electronics',\n",
       " 'rec.motorcycles',\n",
       " 'comp.sys.ibm.pc.hardware',\n",
       " 'talk.politics.misc',\n",
       " 'rec.sport.baseball',\n",
       " 'rec.sport.hockey',\n",
       " 'soc.religion.christian',\n",
       " 'misc.forsale',\n",
       " 'talk.religion.misc',\n",
       " 'alt.atheism',\n",
       " 'misc.forsale',\n",
       " 'alt.atheism',\n",
       " 'rec.motorcycles',\n",
       " 'alt.atheism',\n",
       " 'rec.sport.hockey',\n",
       " 'comp.graphics',\n",
       " 'talk.politics.guns',\n",
       " 'sci.crypt',\n",
       " 'rec.sport.baseball',\n",
       " 'sci.med',\n",
       " 'rec.autos',\n",
       " 'sci.crypt',\n",
       " 'rec.motorcycles',\n",
       " 'comp.graphics',\n",
       " 'comp.os.ms-windows.misc',\n",
       " 'comp.os.ms-windows.misc',\n",
       " 'talk.politics.misc',\n",
       " 'comp.sys.mac.hardware',\n",
       " 'rec.sport.baseball',\n",
       " 'sci.electronics',\n",
       " 'rec.autos',\n",
       " 'comp.os.ms-windows.misc',\n",
       " 'talk.politics.guns',\n",
       " 'rec.autos',\n",
       " 'sci.space',\n",
       " 'comp.windows.x',\n",
       " 'alt.atheism',\n",
       " 'misc.forsale',\n",
       " 'comp.sys.ibm.pc.hardware',\n",
       " 'comp.graphics',\n",
       " 'talk.politics.mideast',\n",
       " 'talk.politics.misc',\n",
       " 'comp.sys.mac.hardware',\n",
       " 'talk.religion.misc',\n",
       " 'comp.windows.x',\n",
       " 'talk.politics.guns',\n",
       " 'alt.atheism',\n",
       " 'rec.autos',\n",
       " 'comp.os.ms-windows.misc',\n",
       " 'rec.sport.baseball',\n",
       " 'comp.windows.x',\n",
       " 'sci.med',\n",
       " 'talk.politics.misc',\n",
       " 'talk.politics.misc',\n",
       " 'sci.crypt',\n",
       " 'sci.med',\n",
       " 'talk.religion.misc',\n",
       " 'rec.sport.baseball',\n",
       " 'talk.politics.guns',\n",
       " 'talk.politics.misc',\n",
       " 'rec.autos',\n",
       " 'rec.sport.hockey',\n",
       " 'comp.windows.x',\n",
       " 'sci.space',\n",
       " 'comp.graphics',\n",
       " 'comp.graphics',\n",
       " 'comp.windows.x',\n",
       " 'talk.religion.misc',\n",
       " 'misc.forsale',\n",
       " 'comp.sys.ibm.pc.hardware',\n",
       " 'talk.politics.mideast',\n",
       " 'comp.os.ms-windows.misc',\n",
       " 'sci.space',\n",
       " 'soc.religion.christian',\n",
       " 'talk.religion.misc',\n",
       " 'comp.os.ms-windows.misc',\n",
       " 'talk.politics.guns',\n",
       " 'sci.med',\n",
       " 'sci.electronics',\n",
       " 'rec.motorcycles',\n",
       " 'comp.os.ms-windows.misc',\n",
       " 'talk.politics.misc',\n",
       " 'sci.space',\n",
       " 'misc.forsale',\n",
       " 'comp.sys.mac.hardware',\n",
       " 'comp.windows.x',\n",
       " 'rec.motorcycles',\n",
       " 'sci.med',\n",
       " 'talk.religion.misc',\n",
       " 'comp.sys.ibm.pc.hardware',\n",
       " 'sci.crypt',\n",
       " 'talk.politics.guns',\n",
       " 'rec.sport.hockey',\n",
       " 'misc.forsale',\n",
       " 'comp.sys.mac.hardware',\n",
       " 'rec.sport.baseball',\n",
       " 'sci.med',\n",
       " 'talk.politics.mideast',\n",
       " 'talk.politics.guns',\n",
       " 'talk.politics.guns',\n",
       " 'comp.sys.mac.hardware',\n",
       " 'sci.med',\n",
       " 'comp.os.ms-windows.misc',\n",
       " 'rec.autos',\n",
       " 'comp.sys.ibm.pc.hardware',\n",
       " 'sci.crypt',\n",
       " 'comp.os.ms-windows.misc',\n",
       " 'comp.sys.ibm.pc.hardware',\n",
       " 'sci.space',\n",
       " 'comp.os.ms-windows.misc',\n",
       " 'sci.med',\n",
       " 'misc.forsale',\n",
       " 'comp.sys.mac.hardware',\n",
       " 'rec.autos',\n",
       " 'rec.motorcycles',\n",
       " 'comp.windows.x',\n",
       " 'comp.windows.x',\n",
       " 'talk.politics.guns',\n",
       " 'talk.religion.misc',\n",
       " 'talk.politics.mideast',\n",
       " 'comp.sys.mac.hardware',\n",
       " 'talk.politics.misc',\n",
       " 'misc.forsale',\n",
       " 'alt.atheism',\n",
       " 'talk.politics.misc',\n",
       " 'talk.religion.misc',\n",
       " 'talk.politics.mideast',\n",
       " 'sci.crypt',\n",
       " 'sci.crypt',\n",
       " 'soc.religion.christian',\n",
       " 'misc.forsale',\n",
       " 'sci.med',\n",
       " 'comp.windows.x',\n",
       " 'comp.windows.x',\n",
       " 'rec.sport.baseball',\n",
       " 'rec.sport.baseball',\n",
       " 'misc.forsale',\n",
       " 'sci.electronics',\n",
       " 'comp.sys.mac.hardware',\n",
       " 'comp.sys.ibm.pc.hardware',\n",
       " 'rec.motorcycles',\n",
       " 'comp.graphics',\n",
       " 'talk.religion.misc',\n",
       " 'talk.politics.mideast',\n",
       " 'talk.politics.mideast',\n",
       " 'talk.politics.guns',\n",
       " 'talk.politics.mideast',\n",
       " 'alt.atheism',\n",
       " 'talk.politics.misc',\n",
       " 'talk.politics.guns',\n",
       " 'sci.electronics',\n",
       " 'comp.os.ms-windows.misc',\n",
       " 'rec.sport.hockey',\n",
       " 'alt.atheism',\n",
       " 'comp.windows.x',\n",
       " 'sci.crypt',\n",
       " 'comp.windows.x',\n",
       " 'sci.electronics',\n",
       " 'sci.electronics',\n",
       " 'talk.religion.misc',\n",
       " 'talk.politics.guns',\n",
       " 'talk.politics.mideast',\n",
       " 'comp.windows.x',\n",
       " 'rec.autos',\n",
       " 'rec.motorcycles',\n",
       " 'misc.forsale',\n",
       " 'comp.windows.x',\n",
       " 'rec.sport.hockey',\n",
       " 'rec.autos',\n",
       " 'comp.os.ms-windows.misc',\n",
       " 'talk.politics.guns',\n",
       " 'rec.sport.hockey',\n",
       " 'sci.space',\n",
       " 'sci.crypt',\n",
       " 'soc.religion.christian',\n",
       " 'comp.graphics',\n",
       " 'rec.sport.hockey',\n",
       " 'misc.forsale',\n",
       " 'rec.autos',\n",
       " 'misc.forsale',\n",
       " 'sci.med',\n",
       " 'alt.atheism',\n",
       " 'comp.graphics',\n",
       " 'talk.politics.guns',\n",
       " 'sci.electronics',\n",
       " 'comp.os.ms-windows.misc',\n",
       " 'rec.sport.baseball',\n",
       " 'comp.windows.x',\n",
       " 'rec.sport.baseball',\n",
       " 'rec.autos',\n",
       " 'sci.space',\n",
       " 'rec.motorcycles',\n",
       " 'sci.space',\n",
       " 'rec.sport.hockey',\n",
       " 'sci.electronics',\n",
       " 'misc.forsale',\n",
       " 'sci.electronics',\n",
       " 'talk.religion.misc',\n",
       " 'comp.sys.ibm.pc.hardware',\n",
       " 'comp.os.ms-windows.misc',\n",
       " 'talk.politics.mideast',\n",
       " 'talk.politics.mideast',\n",
       " 'alt.atheism',\n",
       " 'rec.sport.hockey',\n",
       " 'alt.atheism',\n",
       " 'rec.sport.hockey',\n",
       " 'talk.politics.guns',\n",
       " 'rec.sport.baseball',\n",
       " 'comp.os.ms-windows.misc',\n",
       " 'comp.sys.ibm.pc.hardware',\n",
       " 'sci.space',\n",
       " 'talk.politics.guns',\n",
       " 'misc.forsale',\n",
       " 'sci.space',\n",
       " 'alt.atheism',\n",
       " 'alt.atheism',\n",
       " 'talk.politics.mideast',\n",
       " 'soc.religion.christian',\n",
       " 'rec.motorcycles',\n",
       " 'sci.space',\n",
       " 'sci.med',\n",
       " 'alt.atheism',\n",
       " 'sci.electronics',\n",
       " 'talk.politics.mideast',\n",
       " 'talk.politics.guns',\n",
       " 'rec.sport.hockey',\n",
       " 'rec.motorcycles',\n",
       " 'comp.os.ms-windows.misc',\n",
       " 'rec.autos',\n",
       " 'comp.graphics',\n",
       " 'sci.space',\n",
       " 'comp.graphics',\n",
       " 'talk.religion.misc',\n",
       " 'sci.med',\n",
       " 'rec.autos',\n",
       " 'sci.crypt',\n",
       " 'rec.autos',\n",
       " 'talk.religion.misc',\n",
       " 'talk.politics.mideast',\n",
       " 'alt.atheism',\n",
       " 'soc.religion.christian',\n",
       " 'rec.motorcycles',\n",
       " 'alt.atheism',\n",
       " 'talk.politics.misc',\n",
       " 'sci.space',\n",
       " 'rec.autos',\n",
       " 'rec.sport.baseball',\n",
       " 'sci.crypt',\n",
       " 'sci.electronics',\n",
       " 'talk.religion.misc',\n",
       " 'alt.atheism',\n",
       " 'rec.autos',\n",
       " 'sci.space',\n",
       " 'comp.graphics',\n",
       " 'sci.electronics',\n",
       " 'rec.sport.hockey',\n",
       " 'comp.sys.mac.hardware',\n",
       " 'sci.space',\n",
       " 'alt.atheism',\n",
       " 'comp.sys.ibm.pc.hardware',\n",
       " 'sci.electronics',\n",
       " 'sci.space',\n",
       " 'comp.sys.ibm.pc.hardware',\n",
       " 'rec.motorcycles',\n",
       " 'comp.sys.ibm.pc.hardware',\n",
       " 'rec.autos',\n",
       " 'sci.med',\n",
       " 'soc.religion.christian',\n",
       " 'comp.sys.mac.hardware',\n",
       " 'comp.sys.mac.hardware',\n",
       " 'sci.crypt',\n",
       " 'comp.graphics',\n",
       " 'rec.motorcycles',\n",
       " 'comp.sys.mac.hardware',\n",
       " 'alt.atheism',\n",
       " 'sci.crypt',\n",
       " 'rec.motorcycles',\n",
       " 'sci.med',\n",
       " 'sci.electronics',\n",
       " 'comp.windows.x',\n",
       " 'sci.med',\n",
       " 'talk.politics.mideast',\n",
       " 'comp.os.ms-windows.misc',\n",
       " 'alt.atheism',\n",
       " 'talk.politics.misc',\n",
       " 'sci.med',\n",
       " 'sci.med',\n",
       " 'misc.forsale',\n",
       " 'comp.sys.ibm.pc.hardware',\n",
       " 'talk.politics.misc',\n",
       " 'talk.politics.mideast',\n",
       " 'comp.windows.x',\n",
       " 'comp.windows.x',\n",
       " 'comp.graphics',\n",
       " 'talk.politics.misc',\n",
       " 'comp.sys.ibm.pc.hardware',\n",
       " 'rec.autos',\n",
       " 'comp.windows.x',\n",
       " 'comp.sys.mac.hardware',\n",
       " 'comp.os.ms-windows.misc',\n",
       " 'sci.space',\n",
       " 'sci.space',\n",
       " 'comp.graphics',\n",
       " 'talk.politics.misc',\n",
       " 'misc.forsale',\n",
       " 'sci.space',\n",
       " 'comp.windows.x',\n",
       " 'comp.sys.ibm.pc.hardware',\n",
       " 'sci.electronics',\n",
       " 'sci.space',\n",
       " 'sci.med',\n",
       " 'rec.sport.baseball',\n",
       " 'talk.politics.guns',\n",
       " 'comp.os.ms-windows.misc',\n",
       " 'rec.sport.hockey',\n",
       " 'comp.os.ms-windows.misc',\n",
       " 'soc.religion.christian',\n",
       " 'comp.windows.x',\n",
       " 'rec.motorcycles',\n",
       " 'misc.forsale',\n",
       " 'soc.religion.christian',\n",
       " 'comp.windows.x',\n",
       " 'soc.religion.christian',\n",
       " 'comp.os.ms-windows.misc',\n",
       " 'comp.os.ms-windows.misc',\n",
       " 'sci.space',\n",
       " 'sci.crypt',\n",
       " 'comp.windows.x',\n",
       " 'sci.med',\n",
       " 'misc.forsale',\n",
       " 'misc.forsale',\n",
       " 'comp.windows.x',\n",
       " 'sci.crypt',\n",
       " 'talk.politics.misc',\n",
       " 'sci.med',\n",
       " 'misc.forsale',\n",
       " 'alt.atheism',\n",
       " 'comp.os.ms-windows.misc',\n",
       " 'rec.sport.baseball',\n",
       " 'comp.sys.mac.hardware',\n",
       " 'comp.sys.mac.hardware',\n",
       " 'rec.autos',\n",
       " 'comp.os.ms-windows.misc',\n",
       " 'rec.sport.baseball',\n",
       " 'comp.sys.mac.hardware',\n",
       " 'sci.space',\n",
       " 'talk.politics.misc',\n",
       " 'sci.crypt',\n",
       " 'soc.religion.christian',\n",
       " 'rec.sport.baseball',\n",
       " 'talk.politics.misc',\n",
       " 'sci.crypt',\n",
       " 'misc.forsale',\n",
       " 'sci.space',\n",
       " 'comp.sys.mac.hardware',\n",
       " 'comp.os.ms-windows.misc',\n",
       " 'rec.autos',\n",
       " 'alt.atheism',\n",
       " 'soc.religion.christian',\n",
       " 'talk.religion.misc',\n",
       " 'talk.religion.misc',\n",
       " 'comp.sys.mac.hardware',\n",
       " 'sci.space',\n",
       " 'rec.sport.baseball',\n",
       " 'sci.space',\n",
       " 'rec.motorcycles',\n",
       " 'sci.space',\n",
       " 'comp.sys.ibm.pc.hardware',\n",
       " 'talk.politics.misc',\n",
       " 'talk.politics.mideast',\n",
       " 'sci.electronics',\n",
       " 'rec.sport.baseball',\n",
       " 'talk.religion.misc',\n",
       " 'sci.crypt',\n",
       " 'rec.sport.hockey',\n",
       " 'talk.politics.guns',\n",
       " 'comp.sys.mac.hardware',\n",
       " 'alt.atheism',\n",
       " 'rec.sport.baseball',\n",
       " 'rec.autos',\n",
       " 'sci.space',\n",
       " 'sci.space',\n",
       " 'comp.graphics',\n",
       " 'comp.sys.ibm.pc.hardware',\n",
       " 'rec.sport.baseball',\n",
       " 'misc.forsale',\n",
       " 'sci.crypt',\n",
       " 'rec.sport.baseball',\n",
       " 'soc.religion.christian',\n",
       " 'sci.space',\n",
       " 'sci.electronics',\n",
       " 'soc.religion.christian']"
      ]
     },
     "execution_count": 20,
     "metadata": {},
     "output_type": "execute_result"
    }
   ],
   "source": [
    "Y_test"
   ]
  },
  {
   "cell_type": "code",
   "execution_count": 21,
   "metadata": {
    "collapsed": true
   },
   "outputs": [
    {
     "data": {
      "text/plain": [
       "array(['rec.autos', 'misc.forsale', 'sci.crypt', 'rec.autos',\n",
       "       'talk.politics.guns', 'sci.crypt', 'soc.religion.christian',\n",
       "       'rec.motorcycles', 'talk.politics.mideast', 'rec.sport.baseball',\n",
       "       'rec.sport.hockey', 'rec.autos', 'misc.forsale', 'comp.graphics',\n",
       "       'rec.autos', 'talk.politics.misc', 'comp.sys.mac.hardware',\n",
       "       'alt.atheism', 'soc.religion.christian', 'misc.forsale',\n",
       "       'talk.religion.misc', 'rec.autos', 'comp.sys.ibm.pc.hardware',\n",
       "       'soc.religion.christian', 'rec.sport.hockey', 'sci.med',\n",
       "       'sci.space', 'sci.crypt', 'rec.sport.baseball',\n",
       "       'talk.politics.misc', 'comp.sys.ibm.pc.hardware', 'sci.crypt',\n",
       "       'talk.religion.misc', 'sci.space', 'rec.sport.hockey',\n",
       "       'comp.sys.mac.hardware', 'rec.sport.hockey',\n",
       "       'comp.sys.mac.hardware', 'sci.electronics', 'rec.sport.baseball',\n",
       "       'alt.atheism', 'alt.atheism', 'comp.sys.ibm.pc.hardware',\n",
       "       'comp.sys.mac.hardware', 'talk.politics.guns',\n",
       "       'comp.os.ms-windows.misc', 'misc.forsale',\n",
       "       'comp.os.ms-windows.misc', 'talk.politics.mideast', 'sci.crypt',\n",
       "       'soc.religion.christian', 'sci.med', 'soc.religion.christian',\n",
       "       'comp.windows.x', 'comp.os.ms-windows.misc', 'rec.sport.baseball',\n",
       "       'comp.sys.mac.hardware', 'talk.politics.mideast',\n",
       "       'talk.politics.mideast', 'soc.religion.christian',\n",
       "       'rec.motorcycles', 'soc.religion.christian', 'sci.crypt',\n",
       "       'rec.sport.baseball', 'rec.motorcycles', 'rec.autos',\n",
       "       'rec.sport.baseball', 'misc.forsale', 'misc.forsale',\n",
       "       'rec.motorcycles', 'comp.os.ms-windows.misc', 'rec.motorcycles',\n",
       "       'sci.crypt', 'talk.politics.mideast', 'comp.sys.mac.hardware',\n",
       "       'talk.politics.guns', 'misc.forsale', 'rec.autos',\n",
       "       'talk.politics.mideast', 'soc.religion.christian',\n",
       "       'rec.motorcycles', 'comp.sys.ibm.pc.hardware',\n",
       "       'comp.sys.mac.hardware', 'comp.windows.x', 'talk.politics.guns',\n",
       "       'comp.windows.x', 'talk.politics.mideast',\n",
       "       'comp.os.ms-windows.misc', 'comp.sys.mac.hardware',\n",
       "       'comp.sys.ibm.pc.hardware', 'alt.atheism', 'rec.sport.hockey',\n",
       "       'comp.sys.mac.hardware', 'sci.space', 'sci.space', 'alt.atheism',\n",
       "       'talk.religion.misc', 'alt.atheism', 'alt.atheism',\n",
       "       'comp.os.ms-windows.misc', 'talk.politics.guns',\n",
       "       'comp.sys.mac.hardware', 'comp.sys.mac.hardware',\n",
       "       'soc.religion.christian', 'alt.atheism', 'rec.motorcycles',\n",
       "       'alt.atheism', 'talk.politics.guns', 'rec.autos',\n",
       "       'rec.motorcycles', 'comp.sys.ibm.pc.hardware',\n",
       "       'talk.religion.misc', 'rec.sport.baseball', 'rec.sport.hockey',\n",
       "       'soc.religion.christian', 'misc.forsale', 'talk.religion.misc',\n",
       "       'alt.atheism', 'misc.forsale', 'rec.motorcycles',\n",
       "       'rec.motorcycles', 'alt.atheism', 'sci.space',\n",
       "       'rec.sport.baseball', 'alt.atheism', 'sci.crypt',\n",
       "       'rec.sport.hockey', 'rec.motorcycles', 'rec.motorcycles',\n",
       "       'sci.crypt', 'misc.forsale', 'rec.sport.baseball',\n",
       "       'comp.os.ms-windows.misc', 'misc.forsale', 'talk.politics.misc',\n",
       "       'comp.sys.mac.hardware', 'sci.med', 'misc.forsale', 'misc.forsale',\n",
       "       'talk.politics.guns', 'talk.politics.guns', 'rec.motorcycles',\n",
       "       'talk.politics.mideast', 'comp.windows.x', 'alt.atheism',\n",
       "       'misc.forsale', 'comp.sys.ibm.pc.hardware',\n",
       "       'comp.sys.mac.hardware', 'talk.politics.mideast', 'alt.atheism',\n",
       "       'misc.forsale', 'talk.religion.misc', 'comp.windows.x',\n",
       "       'rec.motorcycles', 'alt.atheism', 'talk.politics.mideast',\n",
       "       'comp.os.ms-windows.misc', 'rec.sport.baseball', 'comp.graphics',\n",
       "       'talk.politics.mideast', 'talk.politics.misc', 'rec.autos',\n",
       "       'sci.crypt', 'rec.autos', 'alt.atheism', 'rec.sport.hockey',\n",
       "       'talk.politics.guns', 'talk.politics.misc', 'rec.autos',\n",
       "       'rec.sport.hockey', 'comp.windows.x', 'sci.med', 'misc.forsale',\n",
       "       'comp.windows.x', 'misc.forsale', 'alt.atheism', 'misc.forsale',\n",
       "       'comp.sys.ibm.pc.hardware', 'talk.politics.mideast', 'rec.autos',\n",
       "       'rec.motorcycles', 'soc.religion.christian', 'alt.atheism',\n",
       "       'comp.os.ms-windows.misc', 'talk.politics.guns', 'sci.med',\n",
       "       'comp.windows.x', 'rec.motorcycles', 'comp.graphics',\n",
       "       'talk.politics.mideast', 'sci.space', 'misc.forsale',\n",
       "       'misc.forsale', 'misc.forsale', 'rec.motorcycles', 'misc.forsale',\n",
       "       'talk.politics.guns', 'comp.sys.ibm.pc.hardware',\n",
       "       'comp.sys.ibm.pc.hardware', 'alt.atheism', 'rec.sport.hockey',\n",
       "       'misc.forsale', 'comp.os.ms-windows.misc', 'rec.autos', 'sci.med',\n",
       "       'talk.politics.mideast', 'sci.med', 'talk.politics.guns',\n",
       "       'comp.sys.ibm.pc.hardware', 'sci.med', 'comp.os.ms-windows.misc',\n",
       "       'rec.motorcycles', 'comp.os.ms-windows.misc', 'sci.crypt',\n",
       "       'alt.atheism', 'comp.sys.ibm.pc.hardware', 'sci.space',\n",
       "       'comp.os.ms-windows.misc', 'sci.med', 'misc.forsale',\n",
       "       'comp.sys.ibm.pc.hardware', 'misc.forsale', 'rec.motorcycles',\n",
       "       'comp.windows.x', 'comp.graphics', 'misc.forsale',\n",
       "       'talk.religion.misc', 'misc.forsale', 'sci.electronics',\n",
       "       'talk.politics.guns', 'misc.forsale', 'alt.atheism',\n",
       "       'rec.motorcycles', 'alt.atheism', 'talk.politics.mideast',\n",
       "       'sci.crypt', 'sci.crypt', 'rec.sport.baseball', 'misc.forsale',\n",
       "       'rec.sport.baseball', 'rec.autos', 'comp.os.ms-windows.misc',\n",
       "       'rec.sport.hockey', 'rec.sport.hockey', 'misc.forsale',\n",
       "       'sci.electronics', 'comp.sys.ibm.pc.hardware', 'misc.forsale',\n",
       "       'rec.motorcycles', 'rec.sport.baseball', 'alt.atheism',\n",
       "       'talk.politics.mideast', 'talk.politics.mideast',\n",
       "       'rec.motorcycles', 'talk.religion.misc', 'alt.atheism',\n",
       "       'talk.politics.misc', 'talk.politics.mideast', 'rec.autos',\n",
       "       'rec.motorcycles', 'rec.sport.hockey', 'talk.politics.mideast',\n",
       "       'comp.windows.x', 'sci.crypt', 'comp.sys.mac.hardware',\n",
       "       'sci.electronics', 'sci.electronics', 'alt.atheism',\n",
       "       'talk.politics.guns', 'sci.med', 'comp.windows.x', 'rec.autos',\n",
       "       'sci.electronics', 'misc.forsale', 'misc.forsale',\n",
       "       'rec.sport.hockey', 'rec.sport.baseball',\n",
       "       'comp.os.ms-windows.misc', 'misc.forsale', 'rec.sport.hockey',\n",
       "       'sci.space', 'rec.autos', 'alt.atheism', 'comp.os.ms-windows.misc',\n",
       "       'rec.sport.hockey', 'misc.forsale', 'rec.autos', 'comp.graphics',\n",
       "       'rec.motorcycles', 'talk.politics.mideast', 'comp.graphics',\n",
       "       'rec.sport.baseball', 'rec.motorcycles',\n",
       "       'comp.sys.ibm.pc.hardware', 'rec.sport.hockey',\n",
       "       'comp.sys.ibm.pc.hardware', 'rec.sport.baseball',\n",
       "       'comp.sys.ibm.pc.hardware', 'comp.sys.ibm.pc.hardware',\n",
       "       'talk.politics.mideast', 'sci.space', 'rec.sport.baseball',\n",
       "       'rec.sport.baseball', 'misc.forsale', 'rec.motorcycles', 'sci.med',\n",
       "       'comp.sys.ibm.pc.hardware', 'comp.os.ms-windows.misc',\n",
       "       'comp.os.ms-windows.misc', 'talk.politics.mideast', 'alt.atheism',\n",
       "       'rec.motorcycles', 'soc.religion.christian', 'rec.sport.hockey',\n",
       "       'rec.autos', 'rec.sport.hockey', 'comp.os.ms-windows.misc',\n",
       "       'comp.sys.ibm.pc.hardware', 'rec.sport.baseball',\n",
       "       'talk.religion.misc', 'alt.atheism', 'comp.sys.ibm.pc.hardware',\n",
       "       'comp.sys.ibm.pc.hardware', 'alt.atheism', 'talk.politics.mideast',\n",
       "       'rec.autos', 'rec.motorcycles', 'rec.motorcycles',\n",
       "       'talk.politics.misc', 'alt.atheism', 'comp.sys.ibm.pc.hardware',\n",
       "       'talk.politics.mideast', 'talk.religion.misc', 'misc.forsale',\n",
       "       'rec.motorcycles', 'comp.os.ms-windows.misc', 'rec.autos',\n",
       "       'rec.autos', 'sci.space', 'talk.religion.misc',\n",
       "       'talk.religion.misc', 'rec.autos', 'rec.sport.hockey', 'sci.crypt',\n",
       "       'rec.motorcycles', 'talk.religion.misc', 'talk.politics.mideast',\n",
       "       'alt.atheism', 'soc.religion.christian', 'rec.motorcycles',\n",
       "       'alt.atheism', 'talk.politics.guns', 'alt.atheism', 'rec.autos',\n",
       "       'rec.motorcycles', 'rec.autos', 'sci.electronics',\n",
       "       'talk.politics.guns', 'rec.motorcycles', 'rec.autos', 'sci.space',\n",
       "       'comp.graphics', 'misc.forsale', 'rec.sport.hockey',\n",
       "       'comp.sys.mac.hardware', 'sci.space', 'rec.sport.baseball',\n",
       "       'comp.sys.mac.hardware', 'comp.sys.mac.hardware',\n",
       "       'rec.sport.hockey', 'comp.sys.ibm.pc.hardware', 'rec.autos',\n",
       "       'comp.sys.ibm.pc.hardware', 'rec.autos', 'alt.atheism',\n",
       "       'soc.religion.christian', 'sci.electronics',\n",
       "       'comp.sys.ibm.pc.hardware', 'comp.os.ms-windows.misc',\n",
       "       'comp.graphics', 'rec.motorcycles', 'comp.sys.mac.hardware',\n",
       "       'rec.motorcycles', 'sci.crypt', 'rec.motorcycles', 'sci.med',\n",
       "       'comp.windows.x', 'comp.windows.x', 'rec.motorcycles',\n",
       "       'talk.politics.misc', 'rec.autos', 'rec.motorcycles',\n",
       "       'talk.politics.guns', 'rec.sport.baseball', 'rec.motorcycles',\n",
       "       'misc.forsale', 'comp.sys.ibm.pc.hardware', 'talk.religion.misc',\n",
       "       'talk.politics.mideast', 'comp.windows.x',\n",
       "       'comp.os.ms-windows.misc', 'comp.graphics', 'rec.autos',\n",
       "       'misc.forsale', 'rec.autos', 'comp.windows.x', 'rec.motorcycles',\n",
       "       'comp.os.ms-windows.misc', 'sci.space', 'sci.med', 'misc.forsale',\n",
       "       'misc.forsale', 'misc.forsale', 'sci.space',\n",
       "       'comp.sys.mac.hardware', 'misc.forsale', 'rec.sport.baseball',\n",
       "       'sci.space', 'comp.sys.ibm.pc.hardware', 'rec.sport.baseball',\n",
       "       'talk.politics.guns', 'comp.sys.ibm.pc.hardware',\n",
       "       'rec.sport.hockey', 'comp.sys.ibm.pc.hardware',\n",
       "       'comp.os.ms-windows.misc', 'comp.os.ms-windows.misc',\n",
       "       'rec.motorcycles', 'misc.forsale', 'soc.religion.christian',\n",
       "       'comp.graphics', 'misc.forsale', 'comp.os.ms-windows.misc',\n",
       "       'comp.os.ms-windows.misc', 'alt.atheism', 'rec.sport.hockey',\n",
       "       'comp.windows.x', 'rec.sport.baseball', 'misc.forsale',\n",
       "       'misc.forsale', 'comp.windows.x', 'sci.med', 'sci.med',\n",
       "       'rec.autos', 'misc.forsale', 'alt.atheism',\n",
       "       'comp.os.ms-windows.misc', 'rec.sport.hockey',\n",
       "       'comp.sys.mac.hardware', 'comp.sys.mac.hardware',\n",
       "       'comp.sys.mac.hardware', 'comp.os.ms-windows.misc',\n",
       "       'rec.motorcycles', 'misc.forsale', 'sci.space',\n",
       "       'talk.politics.guns', 'sci.crypt', 'rec.autos',\n",
       "       'rec.sport.baseball', 'talk.politics.mideast', 'rec.motorcycles',\n",
       "       'rec.motorcycles', 'sci.space', 'comp.sys.mac.hardware',\n",
       "       'comp.os.ms-windows.misc', 'rec.autos', 'alt.atheism',\n",
       "       'soc.religion.christian', 'alt.atheism', 'soc.religion.christian',\n",
       "       'comp.sys.mac.hardware', 'alt.atheism', 'talk.politics.misc',\n",
       "       'sci.space', 'rec.motorcycles', 'comp.graphics',\n",
       "       'comp.sys.ibm.pc.hardware', 'talk.politics.mideast',\n",
       "       'talk.politics.mideast', 'misc.forsale', 'rec.sport.baseball',\n",
       "       'talk.politics.guns', 'sci.crypt', 'rec.sport.baseball',\n",
       "       'talk.politics.guns', 'comp.sys.mac.hardware', 'rec.motorcycles',\n",
       "       'rec.sport.hockey', 'rec.autos', 'sci.space', 'sci.space',\n",
       "       'comp.graphics', 'rec.autos', 'rec.sport.baseball', 'misc.forsale',\n",
       "       'sci.crypt', 'rec.sport.baseball', 'rec.sport.baseball', 'sci.med',\n",
       "       'rec.motorcycles', 'soc.religion.christian'], dtype='<U24')"
      ]
     },
     "execution_count": 21,
     "metadata": {},
     "output_type": "execute_result"
    }
   ],
   "source": [
    "Y_test_pred"
   ]
  },
  {
   "cell_type": "code",
   "execution_count": 22,
   "metadata": {
    "collapsed": true
   },
   "outputs": [
    {
     "name": "stdout",
     "output_type": "stream",
     "text": [
      "Classification report for testing data :-\n",
      "                          precision    recall  f1-score   support\n",
      "\n",
      "             alt.atheism       0.44      0.55      0.49        31\n",
      "           comp.graphics       0.50      0.29      0.36        21\n",
      " comp.os.ms-windows.misc       0.67      0.62      0.65        32\n",
      "comp.sys.ibm.pc.hardware       0.39      0.55      0.45        22\n",
      "   comp.sys.mac.hardware       0.48      0.46      0.47        26\n",
      "          comp.windows.x       0.71      0.41      0.52        29\n",
      "            misc.forsale       0.38      0.87      0.53        23\n",
      "               rec.autos       0.36      0.52      0.43        25\n",
      "         rec.motorcycles       0.33      0.80      0.47        20\n",
      "      rec.sport.baseball       0.37      0.44      0.40        25\n",
      "        rec.sport.hockey       0.54      0.70      0.61        20\n",
      "               sci.crypt       0.95      0.64      0.77        28\n",
      "         sci.electronics       0.50      0.16      0.24        25\n",
      "                 sci.med       0.44      0.28      0.34        25\n",
      "               sci.space       0.80      0.53      0.64        30\n",
      "  soc.religion.christian       0.83      0.62      0.71        24\n",
      "      talk.politics.guns       0.52      0.48      0.50        23\n",
      "   talk.politics.mideast       0.59      0.71      0.64        24\n",
      "      talk.politics.misc       0.56      0.22      0.31        23\n",
      "      talk.religion.misc       0.57      0.33      0.42        24\n",
      "\n",
      "                accuracy                           0.51       500\n",
      "               macro avg       0.55      0.51      0.50       500\n",
      "            weighted avg       0.56      0.51      0.50       500\n",
      "\n"
     ]
    }
   ],
   "source": [
    "print(\"Classification report for testing data :-\")\n",
    "print(classification_report(Y_test, Y_test_pred))"
   ]
  },
  {
   "cell_type": "markdown",
   "metadata": {},
   "source": [
    "### 2. Making  Our Own Function  From Scratch "
   ]
  },
  {
   "cell_type": "markdown",
   "metadata": {},
   "source": [
    " #### We will use already prepared data >>  X_train_dataset,  Y_train"
   ]
  },
  {
   "cell_type": "code",
   "execution_count": 23,
   "metadata": {},
   "outputs": [
    {
     "data": {
      "text/plain": [
       "array([[1., 1., 2., ..., 0., 0., 0.],\n",
       "       [1., 1., 0., ..., 0., 0., 0.],\n",
       "       [1., 1., 0., ..., 0., 0., 0.],\n",
       "       ...,\n",
       "       [1., 1., 0., ..., 0., 0., 0.],\n",
       "       [1., 1., 0., ..., 0., 0., 0.],\n",
       "       [1., 1., 0., ..., 0., 0., 0.]])"
      ]
     },
     "execution_count": 23,
     "metadata": {},
     "output_type": "execute_result"
    }
   ],
   "source": [
    "X_train_dataset"
   ]
  },
  {
   "cell_type": "markdown",
   "metadata": {},
   "source": [
    "\n",
    "### Note the following points and go through the code, little tough:\n",
    "* The function below returns a dictionary Named 'count', which contain 20 dictionary for each category.Each dictionary itself  is a dictionary containing count of each word (of feature) in a class, total word count in that class as key 'total' and total document in that class as key 'total_points'. Like\n",
    "\n",
    "* count= {'sci.crypt': {0: 348.0, 1: 348.0,2: 811.0, 3: 776.0, 4: 116.0, ...,'total':109176.0,'total_points':767},'other category' :{...,..,...,.....}, '...' :{...,...,...,....},'total_points':14997}\n",
    "\n",
    "* The last key of the 'count' dictionary ('total_points' )contain counting of all the documents in the x_train."
   ]
  },
  {
   "cell_type": "code",
   "execution_count": 24,
   "metadata": {},
   "outputs": [],
   "source": [
    "def fit(X_train,Y_train):\n",
    "    count = {}\n",
    "    # This can take some time to complete       \n",
    "    classes = set(Y_train)\n",
    "    for class_ in classes:\n",
    "        count[class_] = {}\n",
    "        for i in range(len(X_train[0])):\n",
    "            count[class_][i] = 0\n",
    "        count[class_]['total'] = 0\n",
    "        count[class_]['total_points'] = 0\n",
    "    count['total_points'] = len(X_train) ## Total number of documents\n",
    "    \n",
    "    for i in range(len(X_train)):\n",
    "        for j in range(len(X_train[0])):\n",
    "            count[Y_train[i]][j]+=X_train[i][j] ## count of each word of feature present in each class  \n",
    "            count[Y_train[i]]['total']+=X_train[i][j] ## total word count in each  class\n",
    "        count[Y_train[i]]['total_points']+=1 ## total doccument count in each class\n",
    "    return count,classes"
   ]
  },
  {
   "cell_type": "markdown",
   "metadata": {},
   "source": [
    "#### Calling the above function. This step is like training.\n",
    "#### The result is used for calculating probability of any text lying in any partiular class in next fucntion."
   ]
  },
  {
   "cell_type": "code",
   "execution_count": 25,
   "metadata": {},
   "outputs": [],
   "source": [
    "count,classes=fit(X_train_dataset,Y_train) # It may take some time"
   ]
  },
  {
   "cell_type": "code",
   "execution_count": 26,
   "metadata": {
    "collapsed": true
   },
   "outputs": [
    {
     "name": "stdout",
     "output_type": "stream",
     "text": [
      "dict_keys(['talk.politics.misc', 'talk.politics.mideast', 'comp.sys.ibm.pc.hardware', 'comp.graphics', 'rec.sport.hockey', 'rec.motorcycles', 'sci.electronics', 'soc.religion.christian', 'sci.med', 'comp.windows.x', 'rec.sport.baseball', 'comp.os.ms-windows.misc', 'talk.politics.guns', 'talk.religion.misc', 'misc.forsale', 'rec.autos', 'comp.sys.mac.hardware', 'alt.atheism', 'sci.space', 'sci.crypt', 'total_points']) \n",
      "\n",
      "{0: 73.0, 1: 76.0, 2: 0.0, 3: 77.0, 4: 72.0, 5: 74.0, 6: 74.0, 7: 63.0, 8: 34.0, 9: 71.0, 10: 25.0, 11: 73.0, 12: 26.0, 13: 3.0, 14: 7.0, 15: 58.0, 16: 1.0, 17: 0.0, 18: 21.0, 19: 7.0, 20: 16.0, 21: 10.0, 22: 32.0, 23: 5.0, 24: 17.0, 25: 8.0, 26: 17.0, 27: 1.0, 28: 7.0, 29: 4.0, 30: 13.0, 31: 8.0, 32: 63.0, 33: 39.0, 34: 7.0, 35: 8.0, 36: 67.0, 37: 7.0, 38: 6.0, 39: 3.0, 40: 73.0, 41: 16.0, 42: 10.0, 43: 44.0, 44: 9.0, 45: 9.0, 46: 5.0, 47: 71.0, 48: 30.0, 49: 1.0, 50: 5.0, 51: 34.0, 52: 5.0, 53: 13.0, 54: 9.0, 55: 14.0, 56: 8.0, 57: 6.0, 58: 39.0, 59: 39.0, 60: 10.0, 61: 7.0, 62: 62.0, 63: 3.0, 64: 88.0, 65: 34.0, 66: 12.0, 67: 2.0, 68: 26.0, 69: 11.0, 70: 42.0, 71: 4.0, 72: 34.0, 73: 6.0, 74: 11.0, 75: 16.0, 76: 0.0, 77: 8.0, 78: 6.0, 79: 7.0, 80: 11.0, 81: 13.0, 82: 5.0, 83: 2.0, 84: 11.0, 85: 22.0, 86: 1.0, 87: 13.0, 88: 7.0, 89: 11.0, 90: 7.0, 91: 2.0, 92: 1.0, 93: 0.0, 94: 4.0, 95: 17.0, 96: 0.0, 97: 7.0, 98: 10.0, 99: 9.0, 100: 3.0, 101: 19.0, 102: 1.0, 103: 10.0, 104: 1.0, 105: 6.0, 106: 5.0, 107: 2.0, 108: 88.0, 109: 31.0, 110: 12.0, 111: 14.0, 112: 29.0, 113: 87.0, 114: 13.0, 115: 3.0, 116: 13.0, 117: 43.0, 118: 80.0, 119: 12.0, 120: 7.0, 121: 12.0, 122: 38.0, 123: 41.0, 124: 8.0, 125: 7.0, 126: 11.0, 127: 6.0, 128: 19.0, 129: 6.0, 130: 7.0, 131: 5.0, 132: 4.0, 133: 11.0, 134: 4.0, 135: 13.0, 136: 8.0, 137: 5.0, 138: 4.0, 139: 59.0, 140: 11.0, 141: 24.0, 142: 21.0, 143: 8.0, 144: 9.0, 145: 33.0, 146: 4.0, 147: 10.0, 148: 24.0, 149: 6.0, 150: 30.0, 151: 5.0, 152: 26.0, 153: 6.0, 154: 0.0, 155: 9.0, 156: 1.0, 157: 4.0, 158: 10.0, 159: 13.0, 160: 14.0, 161: 8.0, 162: 15.0, 163: 14.0, 164: 16.0, 165: 15.0, 166: 6.0, 167: 10.0, 168: 5.0, 169: 12.0, 170: 9.0, 171: 25.0, 172: 30.0, 173: 11.0, 174: 58.0, 175: 32.0, 176: 2.0, 177: 3.0, 178: 4.0, 179: 3.0, 180: 4.0, 181: 35.0, 182: 8.0, 183: 8.0, 184: 46.0, 185: 8.0, 186: 17.0, 187: 7.0, 188: 6.0, 189: 2.0, 190: 4.0, 191: 9.0, 192: 5.0, 193: 9.0, 194: 7.0, 195: 10.0, 196: 10.0, 197: 6.0, 198: 12.0, 199: 2.0, 200: 1.0, 201: 3.0, 202: 8.0, 203: 25.0, 204: 5.0, 205: 13.0, 206: 23.0, 207: 3.0, 208: 15.0, 209: 1.0, 210: 5.0, 211: 36.0, 212: 0.0, 213: 0.0, 214: 23.0, 215: 23.0, 216: 81.0, 217: 3.0, 218: 3.0, 219: 13.0, 220: 2.0, 221: 8.0, 222: 2.0, 223: 3.0, 224: 15.0, 225: 5.0, 226: 1.0, 227: 3.0, 228: 6.0, 229: 13.0, 230: 0.0, 231: 12.0, 232: 13.0, 233: 1.0, 234: 3.0, 235: 11.0, 236: 0.0, 237: 1.0, 238: 9.0, 239: 13.0, 240: 13.0, 241: 6.0, 242: 13.0, 243: 11.0, 244: 2.0, 245: 45.0, 246: 17.0, 247: 20.0, 248: 3.0, 249: 4.0, 250: 3.0, 251: 13.0, 252: 7.0, 253: 16.0, 254: 5.0, 255: 2.0, 256: 7.0, 257: 2.0, 258: 7.0, 259: 0.0, 260: 8.0, 261: 7.0, 262: 0.0, 263: 1.0, 264: 5.0, 265: 8.0, 266: 6.0, 267: 8.0, 268: 10.0, 269: 8.0, 270: 4.0, 271: 7.0, 272: 16.0, 273: 12.0, 274: 7.0, 275: 12.0, 276: 9.0, 277: 5.0, 278: 0.0, 279: 5.0, 280: 6.0, 281: 14.0, 282: 9.0, 283: 11.0, 284: 14.0, 285: 5.0, 286: 6.0, 287: 8.0, 288: 5.0, 289: 0.0, 290: 4.0, 291: 16.0, 292: 9.0, 293: 10.0, 294: 10.0, 295: 6.0, 296: 10.0, 297: 13.0, 298: 12.0, 299: 4.0, 300: 4.0, 301: 2.0, 302: 3.0, 303: 11.0, 304: 1.0, 305: 5.0, 306: 6.0, 307: 8.0, 308: 0.0, 309: 6.0, 310: 3.0, 311: 0.0, 312: 7.0, 313: 17.0, 314: 9.0, 315: 13.0, 316: 19.0, 317: 12.0, 318: 5.0, 319: 21.0, 320: 3.0, 321: 14.0, 322: 7.0, 323: 11.0, 324: 3.0, 325: 127.0, 326: 47.0, 327: 5.0, 328: 17.0, 329: 19.0, 330: 2.0, 331: 9.0, 332: 7.0, 333: 2.0, 334: 3.0, 335: 17.0, 336: 6.0, 337: 2.0, 338: 3.0, 339: 3.0, 340: 44.0, 341: 8.0, 342: 11.0, 343: 2.0, 344: 14.0, 345: 31.0, 346: 4.0, 347: 0.0, 348: 11.0, 349: 5.0, 350: 3.0, 351: 3.0, 352: 0.0, 353: 1.0, 354: 1.0, 355: 3.0, 356: 7.0, 357: 8.0, 358: 6.0, 359: 18.0, 360: 3.0, 361: 1.0, 362: 4.0, 363: 4.0, 364: 1.0, 365: 2.0, 366: 13.0, 367: 3.0, 368: 3.0, 369: 7.0, 370: 8.0, 371: 3.0, 372: 8.0, 373: 0.0, 374: 6.0, 375: 14.0, 376: 2.0, 377: 3.0, 378: 0.0, 379: 8.0, 380: 1.0, 381: 1.0, 382: 4.0, 383: 5.0, 384: 4.0, 385: 2.0, 386: 6.0, 387: 11.0, 388: 4.0, 389: 5.0, 390: 0.0, 391: 5.0, 392: 7.0, 393: 4.0, 394: 8.0, 395: 2.0, 396: 1.0, 397: 10.0, 398: 2.0, 399: 4.0, 400: 0.0, 401: 0.0, 402: 10.0, 403: 4.0, 404: 0.0, 405: 0.0, 406: 3.0, 407: 1.0, 408: 19.0, 409: 0.0, 410: 3.0, 411: 9.0, 412: 6.0, 413: 0.0, 414: 0.0, 415: 0.0, 416: 0.0, 417: 11.0, 418: 7.0, 419: 2.0, 420: 7.0, 421: 9.0, 422: 5.0, 423: 3.0, 424: 8.0, 425: 3.0, 426: 1.0, 427: 6.0, 428: 0.0, 429: 13.0, 430: 0.0, 431: 3.0, 432: 13.0, 433: 2.0, 434: 3.0, 435: 2.0, 436: 3.0, 437: 2.0, 438: 23.0, 439: 1.0, 440: 1.0, 441: 0.0, 'total': 5575.0, 'total_points': 72} \n",
      "\n",
      "444 \n",
      "\n",
      "5575.0 \n",
      "\n",
      "72 \n",
      "\n"
     ]
    },
    {
     "data": {
      "text/plain": [
       "1500"
      ]
     },
     "execution_count": 26,
     "metadata": {},
     "output_type": "execute_result"
    }
   ],
   "source": [
    "## Visualize all these result below and revisit the code above again to understand it better\n",
    "print(count.keys(),'\\n')\n",
    "print(count['sci.crypt'],'\\n')\n",
    "print(len(count['sci.crypt'].keys()),'\\n')\n",
    "print(count['sci.crypt']['total'],'\\n')\n",
    "print(count['sci.crypt']['total_points'],'\\n')\n",
    "count['total_points']"
   ]
  },
  {
   "cell_type": "markdown",
   "metadata": {},
   "source": [
    "#### Note the points  to understand about the function below\n",
    "* The formula from the slide is implemented inside this function.\n",
    "* It takes text as vector and list of class as input \n",
    "* The count dictionary which is the result of function 'count_word_X' is used  for calculating probability of any text passed as a vector to lie in any particular class."
   ]
  },
  {
   "cell_type": "code",
   "execution_count": 27,
   "metadata": {},
   "outputs": [],
   "source": [
    "def probability(count,test_point,class_):\n",
    "    log_prob = np.log(count[class_]['total_points']) - np.log(count['total_points'])\n",
    "    total_words = len(test_point)\n",
    "    for i in range(len(test_point)):\n",
    "        current_word_prob = test_point[i]*(np.log(count[class_][i]+1)-np.log(count[class_]['total']+total_words))\n",
    "        log_prob += current_word_prob\n",
    "    return log_prob"
   ]
  },
  {
   "cell_type": "code",
   "execution_count": 28,
   "metadata": {},
   "outputs": [],
   "source": [
    "def predictSinglePoint(count,classes,test_point):\n",
    "    classes=list(classes)\n",
    "    prob_list=[]\n",
    "    for class_ in classes:\n",
    "        log_probability_current_class = probability(count,test_point,class_)\n",
    "        prob_list.append(log_probability_current_class)\n",
    "                \n",
    "    return classes[np.argmax(np.array(prob_list))]"
   ]
  },
  {
   "cell_type": "code",
   "execution_count": 29,
   "metadata": {},
   "outputs": [],
   "source": [
    "def predict(count,classes,X_test):\n",
    "    Y_pred = [] \n",
    "    for i in X_test:\n",
    "        Y_pred.append(predictSinglePoint(count,classes,i))\n",
    "        \n",
    "    return Y_pred"
   ]
  },
  {
   "cell_type": "code",
   "execution_count": 30,
   "metadata": {},
   "outputs": [],
   "source": [
    " def score(Y_pred,Y_true):\n",
    "        return np.mean(np.array(Y_pred)==np.array(Y_true))"
   ]
  },
  {
   "cell_type": "code",
   "execution_count": 31,
   "metadata": {},
   "outputs": [
    {
     "name": "stdout",
     "output_type": "stream",
     "text": [
      "Our score on testing data : 0.508\n",
      "Classification report for testing data :-\n",
      "                          precision    recall  f1-score   support\n",
      "\n",
      "             alt.atheism       0.44      0.55      0.49        31\n",
      "           comp.graphics       0.50      0.29      0.36        21\n",
      " comp.os.ms-windows.misc       0.67      0.62      0.65        32\n",
      "comp.sys.ibm.pc.hardware       0.39      0.55      0.45        22\n",
      "   comp.sys.mac.hardware       0.48      0.46      0.47        26\n",
      "          comp.windows.x       0.71      0.41      0.52        29\n",
      "            misc.forsale       0.38      0.87      0.53        23\n",
      "               rec.autos       0.36      0.52      0.43        25\n",
      "         rec.motorcycles       0.33      0.80      0.47        20\n",
      "      rec.sport.baseball       0.37      0.44      0.40        25\n",
      "        rec.sport.hockey       0.54      0.70      0.61        20\n",
      "               sci.crypt       0.95      0.64      0.77        28\n",
      "         sci.electronics       0.50      0.16      0.24        25\n",
      "                 sci.med       0.44      0.28      0.34        25\n",
      "               sci.space       0.80      0.53      0.64        30\n",
      "  soc.religion.christian       0.83      0.62      0.71        24\n",
      "      talk.politics.guns       0.52      0.48      0.50        23\n",
      "   talk.politics.mideast       0.59      0.71      0.64        24\n",
      "      talk.politics.misc       0.56      0.22      0.31        23\n",
      "      talk.religion.misc       0.57      0.33      0.42        24\n",
      "\n",
      "                accuracy                           0.51       500\n",
      "               macro avg       0.55      0.51      0.50       500\n",
      "            weighted avg       0.56      0.51      0.50       500\n",
      "\n"
     ]
    }
   ],
   "source": [
    "Y_test_pred = predict(count,classes,X_test_dataset)\n",
    "our_score_test = score(Y_test_pred,Y_test)  \n",
    "print(\"Our score on testing data :\",our_score_test)\n",
    "print(\"Classification report for testing data :-\")\n",
    "print(classification_report(Y_test, Y_test_pred))"
   ]
  },
  {
   "cell_type": "code",
   "execution_count": 32,
   "metadata": {},
   "outputs": [
    {
     "name": "stdout",
     "output_type": "stream",
     "text": [
      "Score of our model on test data: 0.508\n",
      "Score of inbuilt sklearn's MultinomialNB on the same data : 0.508\n"
     ]
    }
   ],
   "source": [
    "print(\"Score of our model on test data:\",our_score_test)\n",
    "print(\"Score of inbuilt sklearn's MultinomialNB on the same data :\",sklearn_score_test)"
   ]
  },
  {
   "cell_type": "markdown",
   "metadata": {},
   "source": [
    "### Finally one thing remaining: How to classify  a text ,  given by user.\n",
    "* For this, we have to vectorize the text that is given by user and after that we can use any predict function either from sklearn or from our own made function.\n",
    "* Below is the function which vectorizes the text. "
   ]
  },
  {
   "cell_type": "code",
   "execution_count": 33,
   "metadata": {},
   "outputs": [],
   "source": [
    "def text_to_vec(text):\n",
    "    text_pred=[('0',text)]\n",
    "    # To convert  test data as word vector counts\n",
    "    text_vec = np.zeros((len(text_pred),len(features)))\n",
    "    for i in range(len(text_pred)):\n",
    "        word_list = [ word.strip(string.punctuation).lower() for word in text_pred[i][1].split()]\n",
    "        for word in word_list:\n",
    "            if word in features:\n",
    "                text_vec[i][features.index(word)] += 1\n",
    "    return text_vec"
   ]
  },
  {
   "cell_type": "code",
   "execution_count": 34,
   "metadata": {},
   "outputs": [],
   "source": [
    "#text_vec=text_to_vec(\"Cold blooded criminal don't hate killing with gun \")\n",
    "text_vec=text_to_vec(\"I love watching movies full of romances \")"
   ]
  },
  {
   "cell_type": "code",
   "execution_count": 35,
   "metadata": {},
   "outputs": [
    {
     "name": "stdout",
     "output_type": "stream",
     "text": [
      "prediction by our own function :  alt.atheism\n",
      "prediction sklearn :  alt.atheism\n"
     ]
    }
   ],
   "source": [
    "## Prediction by our own fucntion\n",
    "text_pred = predict(count,classes,text_vec)\n",
    "print('prediction by our own function : ', text_pred[0])\n",
    "## Prediction by sklearn \n",
    "text_pred=clf.predict(text_vec)\n",
    "print('prediction sklearn : ', text_pred[0])"
   ]
  },
  {
   "cell_type": "markdown",
   "metadata": {},
   "source": [
    "### Making Confusion Matrix and It's Heat Map (for test data prediction)"
   ]
  },
  {
   "cell_type": "code",
   "execution_count": 38,
   "metadata": {
    "collapsed": true
   },
   "outputs": [
    {
     "data": {
      "text/plain": [
       "array([[17,  0,  0,  1,  1,  0,  0,  0,  6,  2,  0,  0,  0,  0,  0,  2,\n",
       "         0,  2,  0,  0],\n",
       "       [ 0,  6,  1,  1,  3,  1,  3,  2,  0,  3,  0,  0,  0,  0,  0,  0,\n",
       "         0,  0,  0,  1],\n",
       "       [ 1,  1, 20,  3,  0,  1,  2,  2,  1,  0,  0,  0,  0,  0,  0,  0,\n",
       "         1,  0,  0,  0],\n",
       "       [ 0,  0,  1, 12,  3,  0,  4,  1,  1,  0,  0,  0,  0,  0,  0,  0,\n",
       "         0,  0,  0,  0],\n",
       "       [ 0,  0,  1,  4, 12,  0,  3,  1,  1,  0,  0,  0,  3,  0,  1,  0,\n",
       "         0,  0,  0,  0],\n",
       "       [ 0,  3,  4,  1,  3, 12,  4,  1,  0,  1,  0,  0,  0,  0,  0,  0,\n",
       "         0,  0,  0,  0],\n",
       "       [ 1,  1,  0,  0,  0,  0, 20,  0,  1,  0,  0,  0,  0,  0,  0,  0,\n",
       "         0,  0,  0,  0],\n",
       "       [ 0,  0,  0,  2,  1,  0,  2, 13,  4,  1,  1,  0,  0,  0,  0,  0,\n",
       "         0,  1,  0,  0],\n",
       "       [ 0,  0,  0,  0,  0,  0,  1,  1, 16,  0,  0,  0,  1,  0,  0,  0,\n",
       "         0,  1,  0,  0],\n",
       "       [ 0,  0,  0,  0,  0,  0,  0,  1,  3, 11,  8,  0,  0,  1,  0,  0,\n",
       "         0,  0,  1,  0],\n",
       "       [ 0,  0,  0,  0,  0,  0,  1,  0,  1,  2, 14,  0,  0,  0,  1,  0,\n",
       "         0,  1,  0,  0],\n",
       "       [ 1,  0,  1,  1,  0,  1,  1,  2,  1,  0,  1, 18,  0,  1,  0,  0,\n",
       "         0,  0,  0,  0],\n",
       "       [ 0,  0,  0,  3,  2,  2,  5,  3,  3,  2,  1,  0,  4,  0,  0,  0,\n",
       "         0,  0,  0,  0],\n",
       "       [ 2,  0,  0,  1,  0,  0,  1,  3,  5,  4,  0,  0,  0,  7,  0,  0,\n",
       "         0,  1,  1,  0],\n",
       "       [ 3,  1,  0,  2,  0,  0,  0,  0,  2,  1,  1,  0,  0,  3, 16,  0,\n",
       "         0,  1,  0,  0],\n",
       "       [ 1,  0,  1,  0,  0,  0,  1,  3,  0,  2,  0,  0,  0,  0,  1, 15,\n",
       "         0,  0,  0,  0],\n",
       "       [ 2,  0,  0,  0,  0,  0,  2,  1,  2,  1,  0,  0,  0,  1,  0,  0,\n",
       "        11,  1,  0,  2],\n",
       "       [ 0,  0,  1,  0,  0,  0,  1,  0,  0,  0,  0,  0,  0,  1,  1,  0,\n",
       "         1, 17,  1,  1],\n",
       "       [ 2,  0,  0,  0,  0,  0,  1,  2,  1,  0,  0,  1,  0,  1,  0,  0,\n",
       "         4,  4,  5,  2],\n",
       "       [ 9,  0,  0,  0,  0,  0,  0,  0,  0,  0,  0,  0,  0,  1,  0,  1,\n",
       "         4,  0,  1,  8]], dtype=int64)"
      ]
     },
     "execution_count": 38,
     "metadata": {},
     "output_type": "execute_result"
    }
   ],
   "source": [
    "from sklearn.metrics import confusion_matrix\n",
    "mat=confusion_matrix(Y_test, Y_test_pred)\n",
    "mat"
   ]
  },
  {
   "cell_type": "code",
   "execution_count": 43,
   "metadata": {},
   "outputs": [
    {
     "data": {
      "text/plain": [
       "Text(91.67999999999999, 0.5, 'Predicted Labels')"
      ]
     },
     "execution_count": 43,
     "metadata": {},
     "output_type": "execute_result"
    },
    {
     "data": {
      "image/png": "[encoded data removed]",
      "text/plain": [
       "<Figure size 432x288 with 1 Axes>"
      ]
     },
     "metadata": {
      "needs_background": "light"
     },
     "output_type": "display_data"
    }
   ],
   "source": [
    "sns.heatmap(mat.T,square=True,annot=True,fmt='d',cbar=False,xticklabels=list(classes),yticklabels=list(classes))\n",
    "plt.xlabel('True Labels')\n",
    "plt.ylabel('Predicted Labels')"
   ]
  }
 ],
 "metadata": {
  "kernelspec": {
   "display_name": "Python 3",
   "language": "python",
   "name": "python3"
  },
  "language_info": {
   "codemirror_mode": {
    "name": "ipython",
    "version": 3
   },
   "file_extension": ".py",
   "mimetype": "text/x-python",
   "name": "python",
   "nbconvert_exporter": "python",
   "pygments_lexer": "ipython3",
   "version": "3.7.6"
  }
 },
 "nbformat": 4,
 "nbformat_minor": 2
}
